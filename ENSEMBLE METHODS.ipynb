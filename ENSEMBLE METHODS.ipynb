{
 "cells": [
  {
   "cell_type": "markdown",
   "id": "98eb4f96",
   "metadata": {},
   "source": [
    "https://github.com/bhattbhavesh91/svm-c-gamma-hyperparameters-tutorial/blob/main/svm-c-gamma-hyperparameters-notebook.ipynb"
   ]
  },
  {
   "cell_type": "code",
   "execution_count": 4,
   "id": "7406b751",
   "metadata": {},
   "outputs": [],
   "source": [
    "import numpy as np\n",
    "import pandas as pd\n",
    "from sklearn import datasets\n",
    "\n",
    "\n",
    "from sklearn import tree\n",
    "from sklearn.ensemble import RandomForestClassifier\n",
    "from sklearn.ensemble import VotingClassifier\n",
    "from sklearn.ensemble import BaggingClassifier\n",
    "from sklearn.ensemble import AdaBoostClassifier\n",
    "from sklearn.ensemble import GradientBoostingClassifier\n",
    "from sklearn.linear_model import LogisticRegression\n",
    "from sklearn.naive_bayes import GaussianNB\n",
    "\n",
    "\n",
    "from sklearn.model_selection import train_test_split\n",
    "from sklearn.model_selection import cross_val_score\n",
    "from sklearn.model_selection import GridSearchCV,RandomizedSearchCV"
   ]
  },
  {
   "cell_type": "code",
   "execution_count": 5,
   "id": "655615aa",
   "metadata": {},
   "outputs": [],
   "source": [
    "# BaggingClassifier(model,n_estimators=10,max_samples=0.50,max_features=1.0)\n",
    "# AdaBoostClassifier(model,n_estimators = 10,learning_rate=0.01)"
   ]
  },
  {
   "cell_type": "code",
   "execution_count": 6,
   "id": "44e8fed4",
   "metadata": {},
   "outputs": [],
   "source": [
    "iris = datasets.load_iris()\n",
    "X,y = iris.data[:,1:3],iris.target"
   ]
  },
  {
   "cell_type": "code",
   "execution_count": 7,
   "id": "5f104153",
   "metadata": {},
   "outputs": [],
   "source": [
    "clf1 = LogisticRegression(random_state = 42)\n",
    "clf2 = RandomForestClassifier(random_state=42)\n",
    "clf3 = GaussianNB()"
   ]
  },
  {
   "cell_type": "markdown",
   "id": "e5506c49",
   "metadata": {},
   "source": [
    "# Cross-Validation"
   ]
  },
  {
   "cell_type": "code",
   "execution_count": 8,
   "id": "4ecb2a72",
   "metadata": {},
   "outputs": [
    {
     "name": "stdout",
     "output_type": "stream",
     "text": [
      "Accuracy is  0.95 ( +/- 0.04) [Logistic Regression]\n",
      "Accuracy is  0.94 ( +/- 0.04) [Random forest Classifier]\n",
      "Accuracy is  0.91 ( +/- 0.04) [GaussianNB]\n"
     ]
    }
   ],
   "source": [
    "classifiers = ['Logistic Regression','Random forest Classifier','GaussianNB']\n",
    "\n",
    "for clf,cnames in  zip([clf1,clf2,clf3],classifiers):\n",
    "    scores = cross_val_score(clf,X,y,cv=5,scoring='accuracy')\n",
    "    print(\"Accuracy is  %0.2f ( +/- %0.2f) [%s]\"%(scores.mean(),scores.std(),cnames))\n",
    "    "
   ]
  },
  {
   "cell_type": "markdown",
   "id": "07d62e3a",
   "metadata": {},
   "source": [
    "# Voting Classifier"
   ]
  },
  {
   "cell_type": "code",
   "execution_count": 9,
   "id": "28df1911",
   "metadata": {},
   "outputs": [],
   "source": [
    "voting_hard = VotingClassifier([(classifiers[0],clf1),\n",
    "                               (classifiers[1],clf2),\n",
    "                               (classifiers[2],clf3)],voting='hard')"
   ]
  },
  {
   "cell_type": "code",
   "execution_count": 10,
   "id": "ccaa7f77",
   "metadata": {},
   "outputs": [],
   "source": [
    "voting_soft = VotingClassifier([(classifiers[0],clf1),\n",
    "                               (classifiers[1],clf2),\n",
    "                               (classifiers[2],clf3)],\n",
    "                              voting='soft')"
   ]
  },
  {
   "cell_type": "code",
   "execution_count": 11,
   "id": "dfcbabe4",
   "metadata": {},
   "outputs": [
    {
     "name": "stdout",
     "output_type": "stream",
     "text": [
      "Accuracy : 0.95 (+ /- 0.04) [Logistic Regression]\n",
      "Accuracy : 0.94 (+ /- 0.04) [Random forest Classifier]\n",
      "Accuracy : 0.91 (+ /- 0.04) [GaussianNB]\n",
      "Accuracy : 0.95 (+ /- 0.03) [Voting Classifier hard]\n",
      "Accuracy : 0.95 (+ /- 0.03) [Voting Classifier Soft]\n"
     ]
    }
   ],
   "source": [
    "classifiers_upd =  ['Logistic Regression','Random forest Classifier','GaussianNB',\n",
    "                   'Voting Classifier hard','Voting Classifier Soft']\n",
    "\n",
    "for clf,cnames in zip([clf1,clf2,clf3,voting_hard,voting_soft],classifiers_upd):\n",
    "    scores = cross_val_score(clf,X,y,cv=5,scoring='accuracy')\n",
    "    print(\"Accuracy : %0.2f (+ /- %0.2f) [%s]\"%(scores.mean(),scores.std(),cnames))"
   ]
  },
  {
   "cell_type": "markdown",
   "id": "d51664f7",
   "metadata": {},
   "source": [
    "# Diabetes Dataset"
   ]
  },
  {
   "cell_type": "code",
   "execution_count": 12,
   "id": "d7bed4ce",
   "metadata": {},
   "outputs": [
    {
     "data": {
      "text/html": [
       "<div>\n",
       "<style scoped>\n",
       "    .dataframe tbody tr th:only-of-type {\n",
       "        vertical-align: middle;\n",
       "    }\n",
       "\n",
       "    .dataframe tbody tr th {\n",
       "        vertical-align: top;\n",
       "    }\n",
       "\n",
       "    .dataframe thead th {\n",
       "        text-align: right;\n",
       "    }\n",
       "</style>\n",
       "<table border=\"1\" class=\"dataframe\">\n",
       "  <thead>\n",
       "    <tr style=\"text-align: right;\">\n",
       "      <th></th>\n",
       "      <th>Pregnancies</th>\n",
       "      <th>Glucose</th>\n",
       "      <th>BloodPressure</th>\n",
       "      <th>SkinThickness</th>\n",
       "      <th>Insulin</th>\n",
       "      <th>BMI</th>\n",
       "      <th>DiabetesPedigreeFunction</th>\n",
       "      <th>Age</th>\n",
       "      <th>Outcome</th>\n",
       "    </tr>\n",
       "  </thead>\n",
       "  <tbody>\n",
       "    <tr>\n",
       "      <th>0</th>\n",
       "      <td>6</td>\n",
       "      <td>148</td>\n",
       "      <td>72</td>\n",
       "      <td>35</td>\n",
       "      <td>0</td>\n",
       "      <td>33.6</td>\n",
       "      <td>0.627</td>\n",
       "      <td>50</td>\n",
       "      <td>1</td>\n",
       "    </tr>\n",
       "    <tr>\n",
       "      <th>1</th>\n",
       "      <td>1</td>\n",
       "      <td>85</td>\n",
       "      <td>66</td>\n",
       "      <td>29</td>\n",
       "      <td>0</td>\n",
       "      <td>26.6</td>\n",
       "      <td>0.351</td>\n",
       "      <td>31</td>\n",
       "      <td>0</td>\n",
       "    </tr>\n",
       "    <tr>\n",
       "      <th>2</th>\n",
       "      <td>8</td>\n",
       "      <td>183</td>\n",
       "      <td>64</td>\n",
       "      <td>0</td>\n",
       "      <td>0</td>\n",
       "      <td>23.3</td>\n",
       "      <td>0.672</td>\n",
       "      <td>32</td>\n",
       "      <td>1</td>\n",
       "    </tr>\n",
       "    <tr>\n",
       "      <th>3</th>\n",
       "      <td>1</td>\n",
       "      <td>89</td>\n",
       "      <td>66</td>\n",
       "      <td>23</td>\n",
       "      <td>94</td>\n",
       "      <td>28.1</td>\n",
       "      <td>0.167</td>\n",
       "      <td>21</td>\n",
       "      <td>0</td>\n",
       "    </tr>\n",
       "    <tr>\n",
       "      <th>4</th>\n",
       "      <td>0</td>\n",
       "      <td>137</td>\n",
       "      <td>40</td>\n",
       "      <td>35</td>\n",
       "      <td>168</td>\n",
       "      <td>43.1</td>\n",
       "      <td>2.288</td>\n",
       "      <td>33</td>\n",
       "      <td>1</td>\n",
       "    </tr>\n",
       "  </tbody>\n",
       "</table>\n",
       "</div>"
      ],
      "text/plain": [
       "   Pregnancies  Glucose  BloodPressure  SkinThickness  Insulin   BMI  \\\n",
       "0            6      148             72             35        0  33.6   \n",
       "1            1       85             66             29        0  26.6   \n",
       "2            8      183             64              0        0  23.3   \n",
       "3            1       89             66             23       94  28.1   \n",
       "4            0      137             40             35      168  43.1   \n",
       "\n",
       "   DiabetesPedigreeFunction  Age  Outcome  \n",
       "0                     0.627   50        1  \n",
       "1                     0.351   31        0  \n",
       "2                     0.672   32        1  \n",
       "3                     0.167   21        0  \n",
       "4                     2.288   33        1  "
      ]
     },
     "execution_count": 12,
     "metadata": {},
     "output_type": "execute_result"
    }
   ],
   "source": [
    "df = pd.read_csv(\"diabetes.csv\")\n",
    "df.head()"
   ]
  },
  {
   "cell_type": "code",
   "execution_count": 13,
   "id": "1c73e87f",
   "metadata": {},
   "outputs": [],
   "source": [
    "X = df.drop(\"Outcome\",axis=1)\n",
    "y = df['Outcome']"
   ]
  },
  {
   "cell_type": "code",
   "execution_count": 14,
   "id": "7783b6ca",
   "metadata": {},
   "outputs": [],
   "source": [
    "xtrain,xtest,ytrain,ytest = train_test_split(X,y,test_size=0.20,stratify=y)"
   ]
  },
  {
   "cell_type": "code",
   "execution_count": 15,
   "id": "03da0e96",
   "metadata": {},
   "outputs": [
    {
     "data": {
      "text/plain": [
       "DecisionTreeClassifier()"
      ]
     },
     "execution_count": 15,
     "metadata": {},
     "output_type": "execute_result"
    }
   ],
   "source": [
    "dt = tree.DecisionTreeClassifier()\n",
    "dt.fit(xtrain,ytrain)"
   ]
  },
  {
   "cell_type": "code",
   "execution_count": 16,
   "id": "a4febb3a",
   "metadata": {},
   "outputs": [
    {
     "data": {
      "text/plain": [
       "0.7597402597402597"
      ]
     },
     "execution_count": 16,
     "metadata": {},
     "output_type": "execute_result"
    }
   ],
   "source": [
    "dt.score(xtest,ytest)"
   ]
  },
  {
   "cell_type": "code",
   "execution_count": 17,
   "id": "a05c3f1f",
   "metadata": {},
   "outputs": [
    {
     "data": {
      "text/plain": [
       "1.0"
      ]
     },
     "execution_count": 17,
     "metadata": {},
     "output_type": "execute_result"
    }
   ],
   "source": [
    "dt.score(xtrain,ytrain)"
   ]
  },
  {
   "cell_type": "code",
   "execution_count": 68,
   "id": "e5ddd34e",
   "metadata": {},
   "outputs": [
    {
     "data": {
      "text/plain": [
       "Pregnancies                 0\n",
       "Glucose                     0\n",
       "BloodPressure               0\n",
       "SkinThickness               0\n",
       "Insulin                     0\n",
       "BMI                         0\n",
       "DiabetesPedigreeFunction    0\n",
       "Age                         0\n",
       "Outcome                     0\n",
       "dtype: int64"
      ]
     },
     "execution_count": 68,
     "metadata": {},
     "output_type": "execute_result"
    }
   ],
   "source": [
    "df.isnull().sum()"
   ]
  },
  {
   "cell_type": "code",
   "execution_count": 73,
   "id": "03dde49b",
   "metadata": {},
   "outputs": [
    {
     "data": {
      "text/plain": [
       "<matplotlib.collections.PathCollection at 0x21f98839280>"
      ]
     },
     "execution_count": 73,
     "metadata": {},
     "output_type": "execute_result"
    },
    {
     "data": {
      "image/png": "[encoded data removed]",
      "text/plain": [
       "<Figure size 432x288 with 1 Axes>"
      ]
     },
     "metadata": {
      "needs_background": "light"
     },
     "output_type": "display_data"
    }
   ],
   "source": [
    "plt.scatter(X['Pregnancies'],y)"
   ]
  },
  {
   "cell_type": "markdown",
   "id": "4bdfe862",
   "metadata": {},
   "source": [
    "#  RandomForestClassifier"
   ]
  },
  {
   "cell_type": "code",
   "execution_count": 18,
   "id": "03f60aee",
   "metadata": {},
   "outputs": [
    {
     "data": {
      "text/plain": [
       "RandomForestClassifier(n_estimators=6)"
      ]
     },
     "execution_count": 18,
     "metadata": {},
     "output_type": "execute_result"
    }
   ],
   "source": [
    "rf = RandomForestClassifier(n_estimators=6)\n",
    "rf.fit(xtrain,ytrain)"
   ]
  },
  {
   "cell_type": "code",
   "execution_count": 19,
   "id": "370bb91e",
   "metadata": {},
   "outputs": [
    {
     "data": {
      "text/plain": [
       "0.7272727272727273"
      ]
     },
     "execution_count": 19,
     "metadata": {},
     "output_type": "execute_result"
    }
   ],
   "source": [
    "rf.score(xtest,ytest)"
   ]
  },
  {
   "cell_type": "code",
   "execution_count": 20,
   "id": "8e51d8f7",
   "metadata": {},
   "outputs": [
    {
     "data": {
      "text/plain": [
       "0.9771986970684039"
      ]
     },
     "execution_count": 20,
     "metadata": {},
     "output_type": "execute_result"
    }
   ],
   "source": [
    "rf.score(xtrain,ytrain)"
   ]
  },
  {
   "cell_type": "markdown",
   "id": "65a1baf2",
   "metadata": {},
   "source": [
    "# Bagging Classifier"
   ]
  },
  {
   "cell_type": "code",
   "execution_count": 21,
   "id": "05ffacbb",
   "metadata": {},
   "outputs": [
    {
     "data": {
      "text/plain": [
       "BaggingClassifier(base_estimator=DecisionTreeClassifier(), n_estimators=20)"
      ]
     },
     "execution_count": 21,
     "metadata": {},
     "output_type": "execute_result"
    }
   ],
   "source": [
    "bg = BaggingClassifier(tree.DecisionTreeClassifier(),n_estimators=20,\n",
    "                       max_features=1.0)\n",
    "bg.fit(xtrain,ytrain)"
   ]
  },
  {
   "cell_type": "code",
   "execution_count": 22,
   "id": "39ad28a8",
   "metadata": {},
   "outputs": [
    {
     "data": {
      "text/plain": [
       "0.7402597402597403"
      ]
     },
     "execution_count": 22,
     "metadata": {},
     "output_type": "execute_result"
    }
   ],
   "source": [
    "bg.score(xtest,ytest)"
   ]
  },
  {
   "cell_type": "code",
   "execution_count": 23,
   "id": "63977a8c",
   "metadata": {},
   "outputs": [
    {
     "data": {
      "text/plain": [
       "0.99185667752443"
      ]
     },
     "execution_count": 23,
     "metadata": {},
     "output_type": "execute_result"
    }
   ],
   "source": [
    "bg.score(xtrain,ytrain)"
   ]
  },
  {
   "cell_type": "markdown",
   "id": "5b62ca77",
   "metadata": {},
   "source": [
    "# Boosting"
   ]
  },
  {
   "cell_type": "code",
   "execution_count": 24,
   "id": "eb1d5a40",
   "metadata": {},
   "outputs": [
    {
     "data": {
      "text/plain": [
       "AdaBoostClassifier(base_estimator=DecisionTreeClassifier(), learning_rate=0.001,\n",
       "                   n_estimators=20)"
      ]
     },
     "execution_count": 24,
     "metadata": {},
     "output_type": "execute_result"
    }
   ],
   "source": [
    "adb = AdaBoostClassifier(tree.DecisionTreeClassifier(),n_estimators=20,learning_rate=0.001)\n",
    "adb.fit(xtrain,ytrain)"
   ]
  },
  {
   "cell_type": "code",
   "execution_count": 25,
   "id": "89b86d4e",
   "metadata": {},
   "outputs": [
    {
     "data": {
      "text/plain": [
       "0.7662337662337663"
      ]
     },
     "execution_count": 25,
     "metadata": {},
     "output_type": "execute_result"
    }
   ],
   "source": [
    "adb.score(xtest,ytest)"
   ]
  },
  {
   "cell_type": "code",
   "execution_count": 26,
   "id": "cc3d47ff",
   "metadata": {},
   "outputs": [
    {
     "data": {
      "text/plain": [
       "1.0"
      ]
     },
     "execution_count": 26,
     "metadata": {},
     "output_type": "execute_result"
    }
   ],
   "source": [
    "adb.score(xtrain,ytrain)"
   ]
  },
  {
   "cell_type": "code",
   "execution_count": null,
   "id": "41b85b6f",
   "metadata": {},
   "outputs": [],
   "source": []
  },
  {
   "cell_type": "code",
   "execution_count": 27,
   "id": "bb9fdf4d",
   "metadata": {},
   "outputs": [],
   "source": [
    "voting_hard = VotingClassifier([(classifiers[0],clf1),\n",
    "                               (classifiers[1],clf2),\n",
    "                               (classifiers[2],clf3)],voting='hard')"
   ]
  },
  {
   "cell_type": "code",
   "execution_count": 28,
   "id": "5d2f16b8",
   "metadata": {},
   "outputs": [
    {
     "name": "stderr",
     "output_type": "stream",
     "text": [
      "C:\\Users\\SURUTHI S\\anaconda3\\lib\\site-packages\\sklearn\\linear_model\\_logistic.py:814: ConvergenceWarning: lbfgs failed to converge (status=1):\n",
      "STOP: TOTAL NO. of ITERATIONS REACHED LIMIT.\n",
      "\n",
      "Increase the number of iterations (max_iter) or scale the data as shown in:\n",
      "    https://scikit-learn.org/stable/modules/preprocessing.html\n",
      "Please also refer to the documentation for alternative solver options:\n",
      "    https://scikit-learn.org/stable/modules/linear_model.html#logistic-regression\n",
      "  n_iter_i = _check_optimize_result(\n"
     ]
    },
    {
     "data": {
      "text/plain": [
       "VotingClassifier(estimators=[('Logistic Regression',\n",
       "                              LogisticRegression(random_state=42)),\n",
       "                             ('Random forest Classifier',\n",
       "                              RandomForestClassifier(random_state=42)),\n",
       "                             ('GaussianNB', GaussianNB())])"
      ]
     },
     "execution_count": 28,
     "metadata": {},
     "output_type": "execute_result"
    }
   ],
   "source": [
    "voting_hard.fit(xtrain,ytrain)"
   ]
  },
  {
   "cell_type": "code",
   "execution_count": 29,
   "id": "a5898586",
   "metadata": {},
   "outputs": [
    {
     "data": {
      "text/plain": [
       "0.7597402597402597"
      ]
     },
     "execution_count": 29,
     "metadata": {},
     "output_type": "execute_result"
    }
   ],
   "source": [
    "voting_hard.score(xtest,ytest)"
   ]
  },
  {
   "cell_type": "code",
   "execution_count": 30,
   "id": "d2d675ab",
   "metadata": {},
   "outputs": [
    {
     "data": {
      "text/plain": [
       "0.8159609120521173"
      ]
     },
     "execution_count": 30,
     "metadata": {},
     "output_type": "execute_result"
    }
   ],
   "source": [
    "voting_hard.score(xtrain,ytrain)"
   ]
  },
  {
   "cell_type": "code",
   "execution_count": 31,
   "id": "95860fde",
   "metadata": {},
   "outputs": [],
   "source": [
    "gb = GradientBoostingClassifier(n_estimators=100,max_depth=4,subsample=0.5)"
   ]
  },
  {
   "cell_type": "code",
   "execution_count": 32,
   "id": "6ac51b21",
   "metadata": {},
   "outputs": [
    {
     "name": "stdout",
     "output_type": "stream",
     "text": [
      "0.7597402597402597\n"
     ]
    },
    {
     "data": {
      "text/plain": [
       "0.9755700325732899"
      ]
     },
     "execution_count": 32,
     "metadata": {},
     "output_type": "execute_result"
    }
   ],
   "source": [
    "gb.fit(xtrain,ytrain)\n",
    "print(gb.score(xtest,ytest))\n",
    "gb.score(xtrain,ytrain)"
   ]
  },
  {
   "cell_type": "markdown",
   "id": "f58ee5c3",
   "metadata": {},
   "source": [
    "# HyperParameter Tuning"
   ]
  },
  {
   "cell_type": "code",
   "execution_count": 33,
   "id": "65c9c752",
   "metadata": {},
   "outputs": [],
   "source": [
    "params = {\n",
    "    'n_estimators' : [50,100,150],\n",
    "    'max_depth' : [3,4,5],\n",
    "    'subsample':[0.5,0.6]\n",
    "}"
   ]
  },
  {
   "cell_type": "code",
   "execution_count": 34,
   "id": "10d191e0",
   "metadata": {},
   "outputs": [],
   "source": [
    "gs = GridSearchCV(gb,param_grid=params)"
   ]
  },
  {
   "cell_type": "code",
   "execution_count": 35,
   "id": "d8ff5e03",
   "metadata": {},
   "outputs": [
    {
     "data": {
      "text/plain": [
       "GridSearchCV(estimator=GradientBoostingClassifier(max_depth=4, subsample=0.5),\n",
       "             param_grid={'max_depth': [3, 4, 5], 'n_estimators': [50, 100, 150],\n",
       "                         'subsample': [0.5, 0.6]})"
      ]
     },
     "execution_count": 35,
     "metadata": {},
     "output_type": "execute_result"
    }
   ],
   "source": [
    "gs.fit(xtrain,ytrain)"
   ]
  },
  {
   "cell_type": "code",
   "execution_count": 36,
   "id": "d1e90fa9",
   "metadata": {},
   "outputs": [
    {
     "data": {
      "text/html": [
       "<div>\n",
       "<style scoped>\n",
       "    .dataframe tbody tr th:only-of-type {\n",
       "        vertical-align: middle;\n",
       "    }\n",
       "\n",
       "    .dataframe tbody tr th {\n",
       "        vertical-align: top;\n",
       "    }\n",
       "\n",
       "    .dataframe thead th {\n",
       "        text-align: right;\n",
       "    }\n",
       "</style>\n",
       "<table border=\"1\" class=\"dataframe\">\n",
       "  <thead>\n",
       "    <tr style=\"text-align: right;\">\n",
       "      <th></th>\n",
       "      <th>mean_fit_time</th>\n",
       "      <th>std_fit_time</th>\n",
       "      <th>mean_score_time</th>\n",
       "      <th>std_score_time</th>\n",
       "      <th>param_max_depth</th>\n",
       "      <th>param_n_estimators</th>\n",
       "      <th>param_subsample</th>\n",
       "      <th>params</th>\n",
       "      <th>split0_test_score</th>\n",
       "      <th>split1_test_score</th>\n",
       "      <th>split2_test_score</th>\n",
       "      <th>split3_test_score</th>\n",
       "      <th>split4_test_score</th>\n",
       "      <th>mean_test_score</th>\n",
       "      <th>std_test_score</th>\n",
       "      <th>rank_test_score</th>\n",
       "    </tr>\n",
       "  </thead>\n",
       "  <tbody>\n",
       "    <tr>\n",
       "      <th>0</th>\n",
       "      <td>0.111119</td>\n",
       "      <td>0.002745</td>\n",
       "      <td>0.000000</td>\n",
       "      <td>0.000000</td>\n",
       "      <td>3</td>\n",
       "      <td>50</td>\n",
       "      <td>0.5</td>\n",
       "      <td>{'max_depth': 3, 'n_estimators': 50, 'subsampl...</td>\n",
       "      <td>0.747967</td>\n",
       "      <td>0.813008</td>\n",
       "      <td>0.731707</td>\n",
       "      <td>0.788618</td>\n",
       "      <td>0.704918</td>\n",
       "      <td>0.757244</td>\n",
       "      <td>0.038911</td>\n",
       "      <td>2</td>\n",
       "    </tr>\n",
       "    <tr>\n",
       "      <th>1</th>\n",
       "      <td>0.115773</td>\n",
       "      <td>0.005349</td>\n",
       "      <td>0.005351</td>\n",
       "      <td>0.006571</td>\n",
       "      <td>3</td>\n",
       "      <td>50</td>\n",
       "      <td>0.6</td>\n",
       "      <td>{'max_depth': 3, 'n_estimators': 50, 'subsampl...</td>\n",
       "      <td>0.715447</td>\n",
       "      <td>0.804878</td>\n",
       "      <td>0.707317</td>\n",
       "      <td>0.788618</td>\n",
       "      <td>0.713115</td>\n",
       "      <td>0.745875</td>\n",
       "      <td>0.041938</td>\n",
       "      <td>7</td>\n",
       "    </tr>\n",
       "    <tr>\n",
       "      <th>2</th>\n",
       "      <td>0.213493</td>\n",
       "      <td>0.010027</td>\n",
       "      <td>0.006300</td>\n",
       "      <td>0.007716</td>\n",
       "      <td>3</td>\n",
       "      <td>100</td>\n",
       "      <td>0.5</td>\n",
       "      <td>{'max_depth': 3, 'n_estimators': 100, 'subsamp...</td>\n",
       "      <td>0.747967</td>\n",
       "      <td>0.772358</td>\n",
       "      <td>0.731707</td>\n",
       "      <td>0.739837</td>\n",
       "      <td>0.729508</td>\n",
       "      <td>0.744276</td>\n",
       "      <td>0.015479</td>\n",
       "      <td>9</td>\n",
       "    </tr>\n",
       "    <tr>\n",
       "      <th>3</th>\n",
       "      <td>0.220208</td>\n",
       "      <td>0.008378</td>\n",
       "      <td>0.006251</td>\n",
       "      <td>0.007656</td>\n",
       "      <td>3</td>\n",
       "      <td>100</td>\n",
       "      <td>0.6</td>\n",
       "      <td>{'max_depth': 3, 'n_estimators': 100, 'subsamp...</td>\n",
       "      <td>0.764228</td>\n",
       "      <td>0.747967</td>\n",
       "      <td>0.731707</td>\n",
       "      <td>0.772358</td>\n",
       "      <td>0.737705</td>\n",
       "      <td>0.750793</td>\n",
       "      <td>0.015421</td>\n",
       "      <td>4</td>\n",
       "    </tr>\n",
       "    <tr>\n",
       "      <th>4</th>\n",
       "      <td>0.313592</td>\n",
       "      <td>0.006870</td>\n",
       "      <td>0.004805</td>\n",
       "      <td>0.006314</td>\n",
       "      <td>3</td>\n",
       "      <td>150</td>\n",
       "      <td>0.5</td>\n",
       "      <td>{'max_depth': 3, 'n_estimators': 150, 'subsamp...</td>\n",
       "      <td>0.747967</td>\n",
       "      <td>0.772358</td>\n",
       "      <td>0.731707</td>\n",
       "      <td>0.723577</td>\n",
       "      <td>0.737705</td>\n",
       "      <td>0.742663</td>\n",
       "      <td>0.016845</td>\n",
       "      <td>12</td>\n",
       "    </tr>\n",
       "    <tr>\n",
       "      <th>5</th>\n",
       "      <td>0.364559</td>\n",
       "      <td>0.029933</td>\n",
       "      <td>0.004333</td>\n",
       "      <td>0.003564</td>\n",
       "      <td>3</td>\n",
       "      <td>150</td>\n",
       "      <td>0.6</td>\n",
       "      <td>{'max_depth': 3, 'n_estimators': 150, 'subsamp...</td>\n",
       "      <td>0.780488</td>\n",
       "      <td>0.788618</td>\n",
       "      <td>0.715447</td>\n",
       "      <td>0.731707</td>\n",
       "      <td>0.704918</td>\n",
       "      <td>0.744236</td>\n",
       "      <td>0.034105</td>\n",
       "      <td>11</td>\n",
       "    </tr>\n",
       "    <tr>\n",
       "      <th>6</th>\n",
       "      <td>0.143833</td>\n",
       "      <td>0.009299</td>\n",
       "      <td>0.001601</td>\n",
       "      <td>0.003201</td>\n",
       "      <td>4</td>\n",
       "      <td>50</td>\n",
       "      <td>0.5</td>\n",
       "      <td>{'max_depth': 4, 'n_estimators': 50, 'subsampl...</td>\n",
       "      <td>0.747967</td>\n",
       "      <td>0.764228</td>\n",
       "      <td>0.715447</td>\n",
       "      <td>0.756098</td>\n",
       "      <td>0.696721</td>\n",
       "      <td>0.736092</td>\n",
       "      <td>0.025726</td>\n",
       "      <td>16</td>\n",
       "    </tr>\n",
       "    <tr>\n",
       "      <th>7</th>\n",
       "      <td>0.149695</td>\n",
       "      <td>0.005754</td>\n",
       "      <td>0.001130</td>\n",
       "      <td>0.001604</td>\n",
       "      <td>4</td>\n",
       "      <td>50</td>\n",
       "      <td>0.6</td>\n",
       "      <td>{'max_depth': 4, 'n_estimators': 50, 'subsampl...</td>\n",
       "      <td>0.764228</td>\n",
       "      <td>0.764228</td>\n",
       "      <td>0.707317</td>\n",
       "      <td>0.756098</td>\n",
       "      <td>0.737705</td>\n",
       "      <td>0.745915</td>\n",
       "      <td>0.021594</td>\n",
       "      <td>6</td>\n",
       "    </tr>\n",
       "    <tr>\n",
       "      <th>8</th>\n",
       "      <td>0.266955</td>\n",
       "      <td>0.001970</td>\n",
       "      <td>0.006250</td>\n",
       "      <td>0.007655</td>\n",
       "      <td>4</td>\n",
       "      <td>100</td>\n",
       "      <td>0.5</td>\n",
       "      <td>{'max_depth': 4, 'n_estimators': 100, 'subsamp...</td>\n",
       "      <td>0.813008</td>\n",
       "      <td>0.772358</td>\n",
       "      <td>0.715447</td>\n",
       "      <td>0.756098</td>\n",
       "      <td>0.737705</td>\n",
       "      <td>0.758923</td>\n",
       "      <td>0.033027</td>\n",
       "      <td>1</td>\n",
       "    </tr>\n",
       "    <tr>\n",
       "      <th>9</th>\n",
       "      <td>0.282799</td>\n",
       "      <td>0.005459</td>\n",
       "      <td>0.008070</td>\n",
       "      <td>0.007236</td>\n",
       "      <td>4</td>\n",
       "      <td>100</td>\n",
       "      <td>0.6</td>\n",
       "      <td>{'max_depth': 4, 'n_estimators': 100, 'subsamp...</td>\n",
       "      <td>0.739837</td>\n",
       "      <td>0.747967</td>\n",
       "      <td>0.731707</td>\n",
       "      <td>0.764228</td>\n",
       "      <td>0.713115</td>\n",
       "      <td>0.739371</td>\n",
       "      <td>0.016971</td>\n",
       "      <td>14</td>\n",
       "    </tr>\n",
       "    <tr>\n",
       "      <th>10</th>\n",
       "      <td>0.398432</td>\n",
       "      <td>0.004670</td>\n",
       "      <td>0.009398</td>\n",
       "      <td>0.007674</td>\n",
       "      <td>4</td>\n",
       "      <td>150</td>\n",
       "      <td>0.5</td>\n",
       "      <td>{'max_depth': 4, 'n_estimators': 150, 'subsamp...</td>\n",
       "      <td>0.747967</td>\n",
       "      <td>0.739837</td>\n",
       "      <td>0.747967</td>\n",
       "      <td>0.772358</td>\n",
       "      <td>0.729508</td>\n",
       "      <td>0.747528</td>\n",
       "      <td>0.014148</td>\n",
       "      <td>5</td>\n",
       "    </tr>\n",
       "    <tr>\n",
       "      <th>11</th>\n",
       "      <td>0.418808</td>\n",
       "      <td>0.005786</td>\n",
       "      <td>0.004548</td>\n",
       "      <td>0.006183</td>\n",
       "      <td>4</td>\n",
       "      <td>150</td>\n",
       "      <td>0.6</td>\n",
       "      <td>{'max_depth': 4, 'n_estimators': 150, 'subsamp...</td>\n",
       "      <td>0.764228</td>\n",
       "      <td>0.764228</td>\n",
       "      <td>0.707317</td>\n",
       "      <td>0.764228</td>\n",
       "      <td>0.721311</td>\n",
       "      <td>0.744262</td>\n",
       "      <td>0.024850</td>\n",
       "      <td>10</td>\n",
       "    </tr>\n",
       "    <tr>\n",
       "      <th>12</th>\n",
       "      <td>0.175629</td>\n",
       "      <td>0.004301</td>\n",
       "      <td>0.003840</td>\n",
       "      <td>0.007680</td>\n",
       "      <td>5</td>\n",
       "      <td>50</td>\n",
       "      <td>0.5</td>\n",
       "      <td>{'max_depth': 5, 'n_estimators': 50, 'subsampl...</td>\n",
       "      <td>0.739837</td>\n",
       "      <td>0.756098</td>\n",
       "      <td>0.715447</td>\n",
       "      <td>0.772358</td>\n",
       "      <td>0.737705</td>\n",
       "      <td>0.744289</td>\n",
       "      <td>0.019091</td>\n",
       "      <td>8</td>\n",
       "    </tr>\n",
       "    <tr>\n",
       "      <th>13</th>\n",
       "      <td>0.187126</td>\n",
       "      <td>0.003956</td>\n",
       "      <td>0.000000</td>\n",
       "      <td>0.000000</td>\n",
       "      <td>5</td>\n",
       "      <td>50</td>\n",
       "      <td>0.6</td>\n",
       "      <td>{'max_depth': 5, 'n_estimators': 50, 'subsampl...</td>\n",
       "      <td>0.739837</td>\n",
       "      <td>0.756098</td>\n",
       "      <td>0.731707</td>\n",
       "      <td>0.764228</td>\n",
       "      <td>0.721311</td>\n",
       "      <td>0.742636</td>\n",
       "      <td>0.015681</td>\n",
       "      <td>13</td>\n",
       "    </tr>\n",
       "    <tr>\n",
       "      <th>14</th>\n",
       "      <td>0.342082</td>\n",
       "      <td>0.002939</td>\n",
       "      <td>0.004721</td>\n",
       "      <td>0.006263</td>\n",
       "      <td>5</td>\n",
       "      <td>100</td>\n",
       "      <td>0.5</td>\n",
       "      <td>{'max_depth': 5, 'n_estimators': 100, 'subsamp...</td>\n",
       "      <td>0.780488</td>\n",
       "      <td>0.764228</td>\n",
       "      <td>0.723577</td>\n",
       "      <td>0.756098</td>\n",
       "      <td>0.745902</td>\n",
       "      <td>0.754058</td>\n",
       "      <td>0.018983</td>\n",
       "      <td>3</td>\n",
       "    </tr>\n",
       "    <tr>\n",
       "      <th>15</th>\n",
       "      <td>0.373087</td>\n",
       "      <td>0.008829</td>\n",
       "      <td>0.004776</td>\n",
       "      <td>0.006326</td>\n",
       "      <td>5</td>\n",
       "      <td>100</td>\n",
       "      <td>0.6</td>\n",
       "      <td>{'max_depth': 5, 'n_estimators': 100, 'subsamp...</td>\n",
       "      <td>0.731707</td>\n",
       "      <td>0.731707</td>\n",
       "      <td>0.707317</td>\n",
       "      <td>0.764228</td>\n",
       "      <td>0.721311</td>\n",
       "      <td>0.731254</td>\n",
       "      <td>0.018759</td>\n",
       "      <td>17</td>\n",
       "    </tr>\n",
       "    <tr>\n",
       "      <th>16</th>\n",
       "      <td>0.528303</td>\n",
       "      <td>0.004147</td>\n",
       "      <td>0.001627</td>\n",
       "      <td>0.003255</td>\n",
       "      <td>5</td>\n",
       "      <td>150</td>\n",
       "      <td>0.5</td>\n",
       "      <td>{'max_depth': 5, 'n_estimators': 150, 'subsamp...</td>\n",
       "      <td>0.739837</td>\n",
       "      <td>0.747967</td>\n",
       "      <td>0.739837</td>\n",
       "      <td>0.756098</td>\n",
       "      <td>0.713115</td>\n",
       "      <td>0.739371</td>\n",
       "      <td>0.014446</td>\n",
       "      <td>15</td>\n",
       "    </tr>\n",
       "    <tr>\n",
       "      <th>17</th>\n",
       "      <td>0.563967</td>\n",
       "      <td>0.004054</td>\n",
       "      <td>0.003461</td>\n",
       "      <td>0.006117</td>\n",
       "      <td>5</td>\n",
       "      <td>150</td>\n",
       "      <td>0.6</td>\n",
       "      <td>{'max_depth': 5, 'n_estimators': 150, 'subsamp...</td>\n",
       "      <td>0.764228</td>\n",
       "      <td>0.715447</td>\n",
       "      <td>0.715447</td>\n",
       "      <td>0.756098</td>\n",
       "      <td>0.688525</td>\n",
       "      <td>0.727949</td>\n",
       "      <td>0.028197</td>\n",
       "      <td>18</td>\n",
       "    </tr>\n",
       "  </tbody>\n",
       "</table>\n",
       "</div>"
      ],
      "text/plain": [
       "    mean_fit_time  std_fit_time  mean_score_time  std_score_time  \\\n",
       "0        0.111119      0.002745         0.000000        0.000000   \n",
       "1        0.115773      0.005349         0.005351        0.006571   \n",
       "2        0.213493      0.010027         0.006300        0.007716   \n",
       "3        0.220208      0.008378         0.006251        0.007656   \n",
       "4        0.313592      0.006870         0.004805        0.006314   \n",
       "5        0.364559      0.029933         0.004333        0.003564   \n",
       "6        0.143833      0.009299         0.001601        0.003201   \n",
       "7        0.149695      0.005754         0.001130        0.001604   \n",
       "8        0.266955      0.001970         0.006250        0.007655   \n",
       "9        0.282799      0.005459         0.008070        0.007236   \n",
       "10       0.398432      0.004670         0.009398        0.007674   \n",
       "11       0.418808      0.005786         0.004548        0.006183   \n",
       "12       0.175629      0.004301         0.003840        0.007680   \n",
       "13       0.187126      0.003956         0.000000        0.000000   \n",
       "14       0.342082      0.002939         0.004721        0.006263   \n",
       "15       0.373087      0.008829         0.004776        0.006326   \n",
       "16       0.528303      0.004147         0.001627        0.003255   \n",
       "17       0.563967      0.004054         0.003461        0.006117   \n",
       "\n",
       "   param_max_depth param_n_estimators param_subsample  \\\n",
       "0                3                 50             0.5   \n",
       "1                3                 50             0.6   \n",
       "2                3                100             0.5   \n",
       "3                3                100             0.6   \n",
       "4                3                150             0.5   \n",
       "5                3                150             0.6   \n",
       "6                4                 50             0.5   \n",
       "7                4                 50             0.6   \n",
       "8                4                100             0.5   \n",
       "9                4                100             0.6   \n",
       "10               4                150             0.5   \n",
       "11               4                150             0.6   \n",
       "12               5                 50             0.5   \n",
       "13               5                 50             0.6   \n",
       "14               5                100             0.5   \n",
       "15               5                100             0.6   \n",
       "16               5                150             0.5   \n",
       "17               5                150             0.6   \n",
       "\n",
       "                                               params  split0_test_score  \\\n",
       "0   {'max_depth': 3, 'n_estimators': 50, 'subsampl...           0.747967   \n",
       "1   {'max_depth': 3, 'n_estimators': 50, 'subsampl...           0.715447   \n",
       "2   {'max_depth': 3, 'n_estimators': 100, 'subsamp...           0.747967   \n",
       "3   {'max_depth': 3, 'n_estimators': 100, 'subsamp...           0.764228   \n",
       "4   {'max_depth': 3, 'n_estimators': 150, 'subsamp...           0.747967   \n",
       "5   {'max_depth': 3, 'n_estimators': 150, 'subsamp...           0.780488   \n",
       "6   {'max_depth': 4, 'n_estimators': 50, 'subsampl...           0.747967   \n",
       "7   {'max_depth': 4, 'n_estimators': 50, 'subsampl...           0.764228   \n",
       "8   {'max_depth': 4, 'n_estimators': 100, 'subsamp...           0.813008   \n",
       "9   {'max_depth': 4, 'n_estimators': 100, 'subsamp...           0.739837   \n",
       "10  {'max_depth': 4, 'n_estimators': 150, 'subsamp...           0.747967   \n",
       "11  {'max_depth': 4, 'n_estimators': 150, 'subsamp...           0.764228   \n",
       "12  {'max_depth': 5, 'n_estimators': 50, 'subsampl...           0.739837   \n",
       "13  {'max_depth': 5, 'n_estimators': 50, 'subsampl...           0.739837   \n",
       "14  {'max_depth': 5, 'n_estimators': 100, 'subsamp...           0.780488   \n",
       "15  {'max_depth': 5, 'n_estimators': 100, 'subsamp...           0.731707   \n",
       "16  {'max_depth': 5, 'n_estimators': 150, 'subsamp...           0.739837   \n",
       "17  {'max_depth': 5, 'n_estimators': 150, 'subsamp...           0.764228   \n",
       "\n",
       "    split1_test_score  split2_test_score  split3_test_score  \\\n",
       "0            0.813008           0.731707           0.788618   \n",
       "1            0.804878           0.707317           0.788618   \n",
       "2            0.772358           0.731707           0.739837   \n",
       "3            0.747967           0.731707           0.772358   \n",
       "4            0.772358           0.731707           0.723577   \n",
       "5            0.788618           0.715447           0.731707   \n",
       "6            0.764228           0.715447           0.756098   \n",
       "7            0.764228           0.707317           0.756098   \n",
       "8            0.772358           0.715447           0.756098   \n",
       "9            0.747967           0.731707           0.764228   \n",
       "10           0.739837           0.747967           0.772358   \n",
       "11           0.764228           0.707317           0.764228   \n",
       "12           0.756098           0.715447           0.772358   \n",
       "13           0.756098           0.731707           0.764228   \n",
       "14           0.764228           0.723577           0.756098   \n",
       "15           0.731707           0.707317           0.764228   \n",
       "16           0.747967           0.739837           0.756098   \n",
       "17           0.715447           0.715447           0.756098   \n",
       "\n",
       "    split4_test_score  mean_test_score  std_test_score  rank_test_score  \n",
       "0            0.704918         0.757244        0.038911                2  \n",
       "1            0.713115         0.745875        0.041938                7  \n",
       "2            0.729508         0.744276        0.015479                9  \n",
       "3            0.737705         0.750793        0.015421                4  \n",
       "4            0.737705         0.742663        0.016845               12  \n",
       "5            0.704918         0.744236        0.034105               11  \n",
       "6            0.696721         0.736092        0.025726               16  \n",
       "7            0.737705         0.745915        0.021594                6  \n",
       "8            0.737705         0.758923        0.033027                1  \n",
       "9            0.713115         0.739371        0.016971               14  \n",
       "10           0.729508         0.747528        0.014148                5  \n",
       "11           0.721311         0.744262        0.024850               10  \n",
       "12           0.737705         0.744289        0.019091                8  \n",
       "13           0.721311         0.742636        0.015681               13  \n",
       "14           0.745902         0.754058        0.018983                3  \n",
       "15           0.721311         0.731254        0.018759               17  \n",
       "16           0.713115         0.739371        0.014446               15  \n",
       "17           0.688525         0.727949        0.028197               18  "
      ]
     },
     "execution_count": 36,
     "metadata": {},
     "output_type": "execute_result"
    }
   ],
   "source": [
    "pd.DataFrame(gs.cv_results_)"
   ]
  },
  {
   "cell_type": "code",
   "execution_count": 37,
   "id": "b88ecedf",
   "metadata": {},
   "outputs": [
    {
     "data": {
      "text/plain": [
       "{'max_depth': 4, 'n_estimators': 100, 'subsample': 0.5}"
      ]
     },
     "execution_count": 37,
     "metadata": {},
     "output_type": "execute_result"
    }
   ],
   "source": [
    "gs.best_params_"
   ]
  },
  {
   "cell_type": "code",
   "execution_count": 38,
   "id": "ada3b81d",
   "metadata": {},
   "outputs": [],
   "source": [
    "gb = GradientBoostingClassifier(**gs.best_params_)"
   ]
  },
  {
   "cell_type": "code",
   "execution_count": 39,
   "id": "a5ac6aa5",
   "metadata": {},
   "outputs": [
    {
     "name": "stdout",
     "output_type": "stream",
     "text": [
      "0.7402597402597403\n"
     ]
    },
    {
     "data": {
      "text/plain": [
       "0.9739413680781759"
      ]
     },
     "execution_count": 39,
     "metadata": {},
     "output_type": "execute_result"
    }
   ],
   "source": [
    "gb.fit(xtrain,ytrain)\n",
    "print(gb.score(xtest,ytest))\n",
    "gb.score(xtrain,ytrain)"
   ]
  },
  {
   "cell_type": "code",
   "execution_count": null,
   "id": "b1d4169a",
   "metadata": {},
   "outputs": [],
   "source": []
  },
  {
   "cell_type": "code",
   "execution_count": null,
   "id": "b42b686b",
   "metadata": {},
   "outputs": [],
   "source": []
  },
  {
   "cell_type": "code",
   "execution_count": 40,
   "id": "e788fe07",
   "metadata": {},
   "outputs": [],
   "source": [
    "gs = RandomizedSearchCV(gb,param_distributions=params)"
   ]
  },
  {
   "cell_type": "code",
   "execution_count": 41,
   "id": "f746a3fb",
   "metadata": {},
   "outputs": [
    {
     "data": {
      "text/plain": [
       "RandomizedSearchCV(estimator=GradientBoostingClassifier(max_depth=4,\n",
       "                                                        subsample=0.5),\n",
       "                   param_distributions={'max_depth': [3, 4, 5],\n",
       "                                        'n_estimators': [50, 100, 150],\n",
       "                                        'subsample': [0.5, 0.6]})"
      ]
     },
     "execution_count": 41,
     "metadata": {},
     "output_type": "execute_result"
    }
   ],
   "source": [
    "gs.fit(xtrain,ytrain)"
   ]
  },
  {
   "cell_type": "code",
   "execution_count": 42,
   "id": "acc0fc87",
   "metadata": {},
   "outputs": [
    {
     "data": {
      "text/html": [
       "<div>\n",
       "<style scoped>\n",
       "    .dataframe tbody tr th:only-of-type {\n",
       "        vertical-align: middle;\n",
       "    }\n",
       "\n",
       "    .dataframe tbody tr th {\n",
       "        vertical-align: top;\n",
       "    }\n",
       "\n",
       "    .dataframe thead th {\n",
       "        text-align: right;\n",
       "    }\n",
       "</style>\n",
       "<table border=\"1\" class=\"dataframe\">\n",
       "  <thead>\n",
       "    <tr style=\"text-align: right;\">\n",
       "      <th></th>\n",
       "      <th>mean_fit_time</th>\n",
       "      <th>std_fit_time</th>\n",
       "      <th>mean_score_time</th>\n",
       "      <th>std_score_time</th>\n",
       "      <th>param_subsample</th>\n",
       "      <th>param_n_estimators</th>\n",
       "      <th>param_max_depth</th>\n",
       "      <th>params</th>\n",
       "      <th>split0_test_score</th>\n",
       "      <th>split1_test_score</th>\n",
       "      <th>split2_test_score</th>\n",
       "      <th>split3_test_score</th>\n",
       "      <th>split4_test_score</th>\n",
       "      <th>mean_test_score</th>\n",
       "      <th>std_test_score</th>\n",
       "      <th>rank_test_score</th>\n",
       "    </tr>\n",
       "  </thead>\n",
       "  <tbody>\n",
       "    <tr>\n",
       "      <th>0</th>\n",
       "      <td>0.202163</td>\n",
       "      <td>0.020557</td>\n",
       "      <td>0.001949</td>\n",
       "      <td>0.003154</td>\n",
       "      <td>0.6</td>\n",
       "      <td>50</td>\n",
       "      <td>5</td>\n",
       "      <td>{'subsample': 0.6, 'n_estimators': 50, 'max_de...</td>\n",
       "      <td>0.707317</td>\n",
       "      <td>0.788618</td>\n",
       "      <td>0.699187</td>\n",
       "      <td>0.772358</td>\n",
       "      <td>0.696721</td>\n",
       "      <td>0.732840</td>\n",
       "      <td>0.039399</td>\n",
       "      <td>9</td>\n",
       "    </tr>\n",
       "    <tr>\n",
       "      <th>1</th>\n",
       "      <td>0.463177</td>\n",
       "      <td>0.120472</td>\n",
       "      <td>0.006424</td>\n",
       "      <td>0.005994</td>\n",
       "      <td>0.5</td>\n",
       "      <td>150</td>\n",
       "      <td>5</td>\n",
       "      <td>{'subsample': 0.5, 'n_estimators': 150, 'max_d...</td>\n",
       "      <td>0.723577</td>\n",
       "      <td>0.788618</td>\n",
       "      <td>0.723577</td>\n",
       "      <td>0.756098</td>\n",
       "      <td>0.729508</td>\n",
       "      <td>0.744276</td>\n",
       "      <td>0.025223</td>\n",
       "      <td>6</td>\n",
       "    </tr>\n",
       "    <tr>\n",
       "      <th>2</th>\n",
       "      <td>0.583474</td>\n",
       "      <td>0.050591</td>\n",
       "      <td>0.004334</td>\n",
       "      <td>0.003733</td>\n",
       "      <td>0.6</td>\n",
       "      <td>150</td>\n",
       "      <td>5</td>\n",
       "      <td>{'subsample': 0.6, 'n_estimators': 150, 'max_d...</td>\n",
       "      <td>0.747967</td>\n",
       "      <td>0.764228</td>\n",
       "      <td>0.756098</td>\n",
       "      <td>0.764228</td>\n",
       "      <td>0.696721</td>\n",
       "      <td>0.745848</td>\n",
       "      <td>0.025293</td>\n",
       "      <td>5</td>\n",
       "    </tr>\n",
       "    <tr>\n",
       "      <th>3</th>\n",
       "      <td>0.350310</td>\n",
       "      <td>0.027163</td>\n",
       "      <td>0.005047</td>\n",
       "      <td>0.002763</td>\n",
       "      <td>0.6</td>\n",
       "      <td>150</td>\n",
       "      <td>3</td>\n",
       "      <td>{'subsample': 0.6, 'n_estimators': 150, 'max_d...</td>\n",
       "      <td>0.788618</td>\n",
       "      <td>0.747967</td>\n",
       "      <td>0.756098</td>\n",
       "      <td>0.747967</td>\n",
       "      <td>0.713115</td>\n",
       "      <td>0.750753</td>\n",
       "      <td>0.024060</td>\n",
       "      <td>2</td>\n",
       "    </tr>\n",
       "    <tr>\n",
       "      <th>4</th>\n",
       "      <td>0.499577</td>\n",
       "      <td>0.049113</td>\n",
       "      <td>0.004520</td>\n",
       "      <td>0.004080</td>\n",
       "      <td>0.6</td>\n",
       "      <td>150</td>\n",
       "      <td>4</td>\n",
       "      <td>{'subsample': 0.6, 'n_estimators': 150, 'max_d...</td>\n",
       "      <td>0.731707</td>\n",
       "      <td>0.764228</td>\n",
       "      <td>0.739837</td>\n",
       "      <td>0.739837</td>\n",
       "      <td>0.713115</td>\n",
       "      <td>0.737745</td>\n",
       "      <td>0.016451</td>\n",
       "      <td>7</td>\n",
       "    </tr>\n",
       "    <tr>\n",
       "      <th>5</th>\n",
       "      <td>0.362276</td>\n",
       "      <td>0.054121</td>\n",
       "      <td>0.003649</td>\n",
       "      <td>0.003224</td>\n",
       "      <td>0.5</td>\n",
       "      <td>150</td>\n",
       "      <td>4</td>\n",
       "      <td>{'subsample': 0.5, 'n_estimators': 150, 'max_d...</td>\n",
       "      <td>0.756098</td>\n",
       "      <td>0.747967</td>\n",
       "      <td>0.723577</td>\n",
       "      <td>0.747967</td>\n",
       "      <td>0.696721</td>\n",
       "      <td>0.734466</td>\n",
       "      <td>0.021798</td>\n",
       "      <td>8</td>\n",
       "    </tr>\n",
       "    <tr>\n",
       "      <th>6</th>\n",
       "      <td>0.262836</td>\n",
       "      <td>0.008676</td>\n",
       "      <td>0.002795</td>\n",
       "      <td>0.002921</td>\n",
       "      <td>0.5</td>\n",
       "      <td>100</td>\n",
       "      <td>5</td>\n",
       "      <td>{'subsample': 0.5, 'n_estimators': 100, 'max_d...</td>\n",
       "      <td>0.739837</td>\n",
       "      <td>0.780488</td>\n",
       "      <td>0.731707</td>\n",
       "      <td>0.731707</td>\n",
       "      <td>0.745902</td>\n",
       "      <td>0.745928</td>\n",
       "      <td>0.018088</td>\n",
       "      <td>4</td>\n",
       "    </tr>\n",
       "    <tr>\n",
       "      <th>7</th>\n",
       "      <td>0.371528</td>\n",
       "      <td>0.039333</td>\n",
       "      <td>0.004761</td>\n",
       "      <td>0.002135</td>\n",
       "      <td>0.6</td>\n",
       "      <td>100</td>\n",
       "      <td>5</td>\n",
       "      <td>{'subsample': 0.6, 'n_estimators': 100, 'max_d...</td>\n",
       "      <td>0.739837</td>\n",
       "      <td>0.780488</td>\n",
       "      <td>0.715447</td>\n",
       "      <td>0.747967</td>\n",
       "      <td>0.754098</td>\n",
       "      <td>0.747568</td>\n",
       "      <td>0.021062</td>\n",
       "      <td>3</td>\n",
       "    </tr>\n",
       "    <tr>\n",
       "      <th>8</th>\n",
       "      <td>0.295361</td>\n",
       "      <td>0.006054</td>\n",
       "      <td>0.004823</td>\n",
       "      <td>0.003938</td>\n",
       "      <td>0.6</td>\n",
       "      <td>100</td>\n",
       "      <td>4</td>\n",
       "      <td>{'subsample': 0.6, 'n_estimators': 100, 'max_d...</td>\n",
       "      <td>0.707317</td>\n",
       "      <td>0.756098</td>\n",
       "      <td>0.715447</td>\n",
       "      <td>0.739837</td>\n",
       "      <td>0.729508</td>\n",
       "      <td>0.729641</td>\n",
       "      <td>0.017342</td>\n",
       "      <td>10</td>\n",
       "    </tr>\n",
       "    <tr>\n",
       "      <th>9</th>\n",
       "      <td>0.189492</td>\n",
       "      <td>0.012910</td>\n",
       "      <td>0.001602</td>\n",
       "      <td>0.003204</td>\n",
       "      <td>0.5</td>\n",
       "      <td>50</td>\n",
       "      <td>5</td>\n",
       "      <td>{'subsample': 0.5, 'n_estimators': 50, 'max_de...</td>\n",
       "      <td>0.756098</td>\n",
       "      <td>0.780488</td>\n",
       "      <td>0.731707</td>\n",
       "      <td>0.764228</td>\n",
       "      <td>0.721311</td>\n",
       "      <td>0.750766</td>\n",
       "      <td>0.021558</td>\n",
       "      <td>1</td>\n",
       "    </tr>\n",
       "  </tbody>\n",
       "</table>\n",
       "</div>"
      ],
      "text/plain": [
       "   mean_fit_time  std_fit_time  mean_score_time  std_score_time  \\\n",
       "0       0.202163      0.020557         0.001949        0.003154   \n",
       "1       0.463177      0.120472         0.006424        0.005994   \n",
       "2       0.583474      0.050591         0.004334        0.003733   \n",
       "3       0.350310      0.027163         0.005047        0.002763   \n",
       "4       0.499577      0.049113         0.004520        0.004080   \n",
       "5       0.362276      0.054121         0.003649        0.003224   \n",
       "6       0.262836      0.008676         0.002795        0.002921   \n",
       "7       0.371528      0.039333         0.004761        0.002135   \n",
       "8       0.295361      0.006054         0.004823        0.003938   \n",
       "9       0.189492      0.012910         0.001602        0.003204   \n",
       "\n",
       "  param_subsample param_n_estimators param_max_depth  \\\n",
       "0             0.6                 50               5   \n",
       "1             0.5                150               5   \n",
       "2             0.6                150               5   \n",
       "3             0.6                150               3   \n",
       "4             0.6                150               4   \n",
       "5             0.5                150               4   \n",
       "6             0.5                100               5   \n",
       "7             0.6                100               5   \n",
       "8             0.6                100               4   \n",
       "9             0.5                 50               5   \n",
       "\n",
       "                                              params  split0_test_score  \\\n",
       "0  {'subsample': 0.6, 'n_estimators': 50, 'max_de...           0.707317   \n",
       "1  {'subsample': 0.5, 'n_estimators': 150, 'max_d...           0.723577   \n",
       "2  {'subsample': 0.6, 'n_estimators': 150, 'max_d...           0.747967   \n",
       "3  {'subsample': 0.6, 'n_estimators': 150, 'max_d...           0.788618   \n",
       "4  {'subsample': 0.6, 'n_estimators': 150, 'max_d...           0.731707   \n",
       "5  {'subsample': 0.5, 'n_estimators': 150, 'max_d...           0.756098   \n",
       "6  {'subsample': 0.5, 'n_estimators': 100, 'max_d...           0.739837   \n",
       "7  {'subsample': 0.6, 'n_estimators': 100, 'max_d...           0.739837   \n",
       "8  {'subsample': 0.6, 'n_estimators': 100, 'max_d...           0.707317   \n",
       "9  {'subsample': 0.5, 'n_estimators': 50, 'max_de...           0.756098   \n",
       "\n",
       "   split1_test_score  split2_test_score  split3_test_score  split4_test_score  \\\n",
       "0           0.788618           0.699187           0.772358           0.696721   \n",
       "1           0.788618           0.723577           0.756098           0.729508   \n",
       "2           0.764228           0.756098           0.764228           0.696721   \n",
       "3           0.747967           0.756098           0.747967           0.713115   \n",
       "4           0.764228           0.739837           0.739837           0.713115   \n",
       "5           0.747967           0.723577           0.747967           0.696721   \n",
       "6           0.780488           0.731707           0.731707           0.745902   \n",
       "7           0.780488           0.715447           0.747967           0.754098   \n",
       "8           0.756098           0.715447           0.739837           0.729508   \n",
       "9           0.780488           0.731707           0.764228           0.721311   \n",
       "\n",
       "   mean_test_score  std_test_score  rank_test_score  \n",
       "0         0.732840        0.039399                9  \n",
       "1         0.744276        0.025223                6  \n",
       "2         0.745848        0.025293                5  \n",
       "3         0.750753        0.024060                2  \n",
       "4         0.737745        0.016451                7  \n",
       "5         0.734466        0.021798                8  \n",
       "6         0.745928        0.018088                4  \n",
       "7         0.747568        0.021062                3  \n",
       "8         0.729641        0.017342               10  \n",
       "9         0.750766        0.021558                1  "
      ]
     },
     "execution_count": 42,
     "metadata": {},
     "output_type": "execute_result"
    }
   ],
   "source": [
    "pd.DataFrame(gs.cv_results_)"
   ]
  },
  {
   "cell_type": "code",
   "execution_count": 43,
   "id": "98f0b94c",
   "metadata": {},
   "outputs": [
    {
     "data": {
      "text/plain": [
       "{'subsample': 0.5, 'n_estimators': 50, 'max_depth': 5}"
      ]
     },
     "execution_count": 43,
     "metadata": {},
     "output_type": "execute_result"
    }
   ],
   "source": [
    "gs.best_params_"
   ]
  },
  {
   "cell_type": "code",
   "execution_count": 44,
   "id": "bce0837b",
   "metadata": {},
   "outputs": [],
   "source": [
    "gb = GradientBoostingClassifier(**gs.best_params_)"
   ]
  },
  {
   "cell_type": "code",
   "execution_count": 45,
   "id": "1cc2d42d",
   "metadata": {},
   "outputs": [
    {
     "name": "stdout",
     "output_type": "stream",
     "text": [
      "0.7467532467532467\n"
     ]
    },
    {
     "data": {
      "text/plain": [
       "0.9739413680781759"
      ]
     },
     "execution_count": 45,
     "metadata": {},
     "output_type": "execute_result"
    }
   ],
   "source": [
    "gb.fit(xtrain,ytrain)\n",
    "print(gb.score(xtest,ytest))\n",
    "gb.score(xtrain,ytrain)"
   ]
  },
  {
   "cell_type": "code",
   "execution_count": null,
   "id": "3657c390",
   "metadata": {},
   "outputs": [],
   "source": []
  },
  {
   "cell_type": "code",
   "execution_count": 46,
   "id": "c302b307",
   "metadata": {},
   "outputs": [],
   "source": [
    "from matplotlib.colors import ListedColormap"
   ]
  },
  {
   "cell_type": "code",
   "execution_count": 48,
   "id": "3efcf3f8",
   "metadata": {},
   "outputs": [],
   "source": [
    "mapping = ListedColormap((\"red\",'green'))"
   ]
  },
  {
   "cell_type": "code",
   "execution_count": 49,
   "id": "4ab79f2c",
   "metadata": {},
   "outputs": [],
   "source": [
    "def plot_decision_boundary(X, y, clf):\n",
    "  X_set, y_set = X, y\n",
    "  X1, X2 = np.meshgrid(np.arange(start = X_set[:, 0].min() - 1, \n",
    "                                 stop = X_set[:, 0].max() + 1, \n",
    "                                 step = 0.01),\n",
    "                       np.arange(start = X_set[:, 1].min() - 1, \n",
    "                                 stop = X_set[:, 1].max() + 1, \n",
    "                                 step = 0.01))\n",
    "  plt.figure(figsize=(10,6))\n",
    "  plt.contourf(X1, X2, clf.predict(np.array([X1.ravel(), \n",
    "                                             X2.ravel()]).T).reshape(X1.shape),\n",
    "               alpha = 0.75, \n",
    "               cmap = zero_one_colourmap_boundary)\n",
    "  plt.xlim(X1.min(), X1.max())\n",
    "  plt.ylim(X2.min(), X2.max())\n",
    "  for i, j in enumerate(np.unique(y_set)):\n",
    "    plt.scatter(X_set[y_set == j, 0], X_set[y_set == j, 1],\n",
    "                c = (zero_one_colourmap_pts)(i), label = j)\n",
    "  plt.title('SVM Decision Boundary')\n",
    "  plt.xlabel('X1')\n",
    "  plt.ylabel('X2')\n",
    "  plt.legend()\n",
    "  return plt.show()"
   ]
  },
  {
   "cell_type": "code",
   "execution_count": null,
   "id": "7846df64",
   "metadata": {},
   "outputs": [],
   "source": [
    "X_train[:,0]"
   ]
  },
  {
   "cell_type": "code",
   "execution_count": 61,
   "id": "2f69a49e",
   "metadata": {},
   "outputs": [
    {
     "data": {
      "text/plain": [
       "768"
      ]
     },
     "execution_count": 61,
     "metadata": {},
     "output_type": "execute_result"
    }
   ],
   "source": [
    "len(X)"
   ]
  },
  {
   "cell_type": "code",
   "execution_count": 62,
   "id": "9c3f54f6",
   "metadata": {},
   "outputs": [
    {
     "data": {
      "text/plain": [
       "768"
      ]
     },
     "execution_count": 62,
     "metadata": {},
     "output_type": "execute_result"
    }
   ],
   "source": [
    "len(y)"
   ]
  },
  {
   "cell_type": "code",
   "execution_count": 66,
   "id": "571b8edc",
   "metadata": {},
   "outputs": [],
   "source": [
    "from sklearn.svm import SVC"
   ]
  },
  {
   "cell_type": "code",
   "execution_count": 67,
   "id": "fd9533ea",
   "metadata": {},
   "outputs": [
    {
     "name": "stdout",
     "output_type": "stream",
     "text": [
      "0.7272727272727273\n"
     ]
    },
    {
     "data": {
      "text/plain": [
       "0.7833876221498371"
      ]
     },
     "execution_count": 67,
     "metadata": {},
     "output_type": "execute_result"
    }
   ],
   "source": [
    "svc = SVC()\n",
    "svc.fit(xtrain,ytrain)\n",
    "print(svc.score(xtest,ytest))\n",
    "svc.score(xtrain,ytrain)"
   ]
  },
  {
   "cell_type": "code",
   "execution_count": 77,
   "id": "27b96ab8",
   "metadata": {},
   "outputs": [],
   "source": [
    "param = {'kernel':['linear','poly','rbf','sigmoid'],'C':[0.1,1,5,10]}"
   ]
  },
  {
   "cell_type": "code",
   "execution_count": 78,
   "id": "dd5b1a15",
   "metadata": {},
   "outputs": [
    {
     "data": {
      "text/plain": [
       "RandomizedSearchCV(estimator=SVC(),\n",
       "                   param_distributions={'C': [0.1, 1, 5, 10],\n",
       "                                        'kernel': ['linear', 'poly', 'rbf',\n",
       "                                                   'sigmoid']})"
      ]
     },
     "execution_count": 78,
     "metadata": {},
     "output_type": "execute_result"
    }
   ],
   "source": [
    "rs = RandomizedSearchCV(svc,param_distributions=param)\n",
    "rs.fit(xtrain,ytrain)"
   ]
  },
  {
   "cell_type": "code",
   "execution_count": 79,
   "id": "b4dabc38",
   "metadata": {},
   "outputs": [
    {
     "name": "stdout",
     "output_type": "stream",
     "text": [
      "0.7402597402597403\n"
     ]
    },
    {
     "data": {
      "text/plain": [
       "0.7817589576547231"
      ]
     },
     "execution_count": 79,
     "metadata": {},
     "output_type": "execute_result"
    }
   ],
   "source": [
    "print(rs.score(xtest,ytest))\n",
    "rs.score(xtrain,ytrain)"
   ]
  },
  {
   "cell_type": "code",
   "execution_count": 80,
   "id": "feea50e1",
   "metadata": {},
   "outputs": [
    {
     "data": {
      "text/html": [
       "<div>\n",
       "<style scoped>\n",
       "    .dataframe tbody tr th:only-of-type {\n",
       "        vertical-align: middle;\n",
       "    }\n",
       "\n",
       "    .dataframe tbody tr th {\n",
       "        vertical-align: top;\n",
       "    }\n",
       "\n",
       "    .dataframe thead th {\n",
       "        text-align: right;\n",
       "    }\n",
       "</style>\n",
       "<table border=\"1\" class=\"dataframe\">\n",
       "  <thead>\n",
       "    <tr style=\"text-align: right;\">\n",
       "      <th></th>\n",
       "      <th>mean_fit_time</th>\n",
       "      <th>std_fit_time</th>\n",
       "      <th>mean_score_time</th>\n",
       "      <th>std_score_time</th>\n",
       "      <th>param_kernel</th>\n",
       "      <th>param_C</th>\n",
       "      <th>params</th>\n",
       "      <th>split0_test_score</th>\n",
       "      <th>split1_test_score</th>\n",
       "      <th>split2_test_score</th>\n",
       "      <th>split3_test_score</th>\n",
       "      <th>split4_test_score</th>\n",
       "      <th>mean_test_score</th>\n",
       "      <th>std_test_score</th>\n",
       "      <th>rank_test_score</th>\n",
       "    </tr>\n",
       "  </thead>\n",
       "  <tbody>\n",
       "    <tr>\n",
       "      <th>0</th>\n",
       "      <td>0.011693</td>\n",
       "      <td>0.003227</td>\n",
       "      <td>0.006993</td>\n",
       "      <td>0.000862</td>\n",
       "      <td>sigmoid</td>\n",
       "      <td>5</td>\n",
       "      <td>{'kernel': 'sigmoid', 'C': 5}</td>\n",
       "      <td>0.439024</td>\n",
       "      <td>0.398374</td>\n",
       "      <td>0.471545</td>\n",
       "      <td>0.430894</td>\n",
       "      <td>0.491803</td>\n",
       "      <td>0.446328</td>\n",
       "      <td>0.032542</td>\n",
       "      <td>9</td>\n",
       "    </tr>\n",
       "    <tr>\n",
       "      <th>1</th>\n",
       "      <td>0.012500</td>\n",
       "      <td>0.006250</td>\n",
       "      <td>0.005280</td>\n",
       "      <td>0.006683</td>\n",
       "      <td>sigmoid</td>\n",
       "      <td>10</td>\n",
       "      <td>{'kernel': 'sigmoid', 'C': 10}</td>\n",
       "      <td>0.406504</td>\n",
       "      <td>0.398374</td>\n",
       "      <td>0.487805</td>\n",
       "      <td>0.406504</td>\n",
       "      <td>0.500000</td>\n",
       "      <td>0.439837</td>\n",
       "      <td>0.044411</td>\n",
       "      <td>10</td>\n",
       "    </tr>\n",
       "    <tr>\n",
       "      <th>2</th>\n",
       "      <td>0.044848</td>\n",
       "      <td>0.014493</td>\n",
       "      <td>0.009377</td>\n",
       "      <td>0.007656</td>\n",
       "      <td>poly</td>\n",
       "      <td>5</td>\n",
       "      <td>{'kernel': 'poly', 'C': 5}</td>\n",
       "      <td>0.731707</td>\n",
       "      <td>0.821138</td>\n",
       "      <td>0.756098</td>\n",
       "      <td>0.756098</td>\n",
       "      <td>0.721311</td>\n",
       "      <td>0.757270</td>\n",
       "      <td>0.034723</td>\n",
       "      <td>2</td>\n",
       "    </tr>\n",
       "    <tr>\n",
       "      <th>3</th>\n",
       "      <td>19.185813</td>\n",
       "      <td>5.507492</td>\n",
       "      <td>0.000908</td>\n",
       "      <td>0.001816</td>\n",
       "      <td>linear</td>\n",
       "      <td>5</td>\n",
       "      <td>{'kernel': 'linear', 'C': 5}</td>\n",
       "      <td>0.715447</td>\n",
       "      <td>0.821138</td>\n",
       "      <td>0.731707</td>\n",
       "      <td>0.756098</td>\n",
       "      <td>0.754098</td>\n",
       "      <td>0.755698</td>\n",
       "      <td>0.036002</td>\n",
       "      <td>4</td>\n",
       "    </tr>\n",
       "    <tr>\n",
       "      <th>4</th>\n",
       "      <td>0.013983</td>\n",
       "      <td>0.003013</td>\n",
       "      <td>0.003141</td>\n",
       "      <td>0.006283</td>\n",
       "      <td>poly</td>\n",
       "      <td>0.1</td>\n",
       "      <td>{'kernel': 'poly', 'C': 0.1}</td>\n",
       "      <td>0.739837</td>\n",
       "      <td>0.804878</td>\n",
       "      <td>0.731707</td>\n",
       "      <td>0.780488</td>\n",
       "      <td>0.713115</td>\n",
       "      <td>0.754005</td>\n",
       "      <td>0.033643</td>\n",
       "      <td>5</td>\n",
       "    </tr>\n",
       "    <tr>\n",
       "      <th>5</th>\n",
       "      <td>0.015644</td>\n",
       "      <td>0.000065</td>\n",
       "      <td>0.012564</td>\n",
       "      <td>0.006285</td>\n",
       "      <td>rbf</td>\n",
       "      <td>0.1</td>\n",
       "      <td>{'kernel': 'rbf', 'C': 0.1}</td>\n",
       "      <td>0.682927</td>\n",
       "      <td>0.674797</td>\n",
       "      <td>0.699187</td>\n",
       "      <td>0.666667</td>\n",
       "      <td>0.647541</td>\n",
       "      <td>0.674224</td>\n",
       "      <td>0.017137</td>\n",
       "      <td>7</td>\n",
       "    </tr>\n",
       "    <tr>\n",
       "      <th>6</th>\n",
       "      <td>0.016030</td>\n",
       "      <td>0.000583</td>\n",
       "      <td>0.009273</td>\n",
       "      <td>0.007591</td>\n",
       "      <td>rbf</td>\n",
       "      <td>5</td>\n",
       "      <td>{'kernel': 'rbf', 'C': 5}</td>\n",
       "      <td>0.707317</td>\n",
       "      <td>0.804878</td>\n",
       "      <td>0.764228</td>\n",
       "      <td>0.764228</td>\n",
       "      <td>0.696721</td>\n",
       "      <td>0.747474</td>\n",
       "      <td>0.040112</td>\n",
       "      <td>6</td>\n",
       "    </tr>\n",
       "    <tr>\n",
       "      <th>7</th>\n",
       "      <td>0.025061</td>\n",
       "      <td>0.007735</td>\n",
       "      <td>0.003124</td>\n",
       "      <td>0.006249</td>\n",
       "      <td>poly</td>\n",
       "      <td>1</td>\n",
       "      <td>{'kernel': 'poly', 'C': 1}</td>\n",
       "      <td>0.747967</td>\n",
       "      <td>0.821138</td>\n",
       "      <td>0.731707</td>\n",
       "      <td>0.772358</td>\n",
       "      <td>0.713115</td>\n",
       "      <td>0.757257</td>\n",
       "      <td>0.037407</td>\n",
       "      <td>3</td>\n",
       "    </tr>\n",
       "    <tr>\n",
       "      <th>8</th>\n",
       "      <td>4.747639</td>\n",
       "      <td>1.447658</td>\n",
       "      <td>0.000000</td>\n",
       "      <td>0.000000</td>\n",
       "      <td>linear</td>\n",
       "      <td>1</td>\n",
       "      <td>{'kernel': 'linear', 'C': 1}</td>\n",
       "      <td>0.715447</td>\n",
       "      <td>0.829268</td>\n",
       "      <td>0.723577</td>\n",
       "      <td>0.772358</td>\n",
       "      <td>0.762295</td>\n",
       "      <td>0.760589</td>\n",
       "      <td>0.040659</td>\n",
       "      <td>1</td>\n",
       "    </tr>\n",
       "    <tr>\n",
       "      <th>9</th>\n",
       "      <td>0.021905</td>\n",
       "      <td>0.007637</td>\n",
       "      <td>0.002130</td>\n",
       "      <td>0.004260</td>\n",
       "      <td>sigmoid</td>\n",
       "      <td>0.1</td>\n",
       "      <td>{'kernel': 'sigmoid', 'C': 0.1}</td>\n",
       "      <td>0.650407</td>\n",
       "      <td>0.650407</td>\n",
       "      <td>0.650407</td>\n",
       "      <td>0.650407</td>\n",
       "      <td>0.655738</td>\n",
       "      <td>0.651473</td>\n",
       "      <td>0.002132</td>\n",
       "      <td>8</td>\n",
       "    </tr>\n",
       "  </tbody>\n",
       "</table>\n",
       "</div>"
      ],
      "text/plain": [
       "   mean_fit_time  std_fit_time  mean_score_time  std_score_time param_kernel  \\\n",
       "0       0.011693      0.003227         0.006993        0.000862      sigmoid   \n",
       "1       0.012500      0.006250         0.005280        0.006683      sigmoid   \n",
       "2       0.044848      0.014493         0.009377        0.007656         poly   \n",
       "3      19.185813      5.507492         0.000908        0.001816       linear   \n",
       "4       0.013983      0.003013         0.003141        0.006283         poly   \n",
       "5       0.015644      0.000065         0.012564        0.006285          rbf   \n",
       "6       0.016030      0.000583         0.009273        0.007591          rbf   \n",
       "7       0.025061      0.007735         0.003124        0.006249         poly   \n",
       "8       4.747639      1.447658         0.000000        0.000000       linear   \n",
       "9       0.021905      0.007637         0.002130        0.004260      sigmoid   \n",
       "\n",
       "  param_C                           params  split0_test_score  \\\n",
       "0       5    {'kernel': 'sigmoid', 'C': 5}           0.439024   \n",
       "1      10   {'kernel': 'sigmoid', 'C': 10}           0.406504   \n",
       "2       5       {'kernel': 'poly', 'C': 5}           0.731707   \n",
       "3       5     {'kernel': 'linear', 'C': 5}           0.715447   \n",
       "4     0.1     {'kernel': 'poly', 'C': 0.1}           0.739837   \n",
       "5     0.1      {'kernel': 'rbf', 'C': 0.1}           0.682927   \n",
       "6       5        {'kernel': 'rbf', 'C': 5}           0.707317   \n",
       "7       1       {'kernel': 'poly', 'C': 1}           0.747967   \n",
       "8       1     {'kernel': 'linear', 'C': 1}           0.715447   \n",
       "9     0.1  {'kernel': 'sigmoid', 'C': 0.1}           0.650407   \n",
       "\n",
       "   split1_test_score  split2_test_score  split3_test_score  split4_test_score  \\\n",
       "0           0.398374           0.471545           0.430894           0.491803   \n",
       "1           0.398374           0.487805           0.406504           0.500000   \n",
       "2           0.821138           0.756098           0.756098           0.721311   \n",
       "3           0.821138           0.731707           0.756098           0.754098   \n",
       "4           0.804878           0.731707           0.780488           0.713115   \n",
       "5           0.674797           0.699187           0.666667           0.647541   \n",
       "6           0.804878           0.764228           0.764228           0.696721   \n",
       "7           0.821138           0.731707           0.772358           0.713115   \n",
       "8           0.829268           0.723577           0.772358           0.762295   \n",
       "9           0.650407           0.650407           0.650407           0.655738   \n",
       "\n",
       "   mean_test_score  std_test_score  rank_test_score  \n",
       "0         0.446328        0.032542                9  \n",
       "1         0.439837        0.044411               10  \n",
       "2         0.757270        0.034723                2  \n",
       "3         0.755698        0.036002                4  \n",
       "4         0.754005        0.033643                5  \n",
       "5         0.674224        0.017137                7  \n",
       "6         0.747474        0.040112                6  \n",
       "7         0.757257        0.037407                3  \n",
       "8         0.760589        0.040659                1  \n",
       "9         0.651473        0.002132                8  "
      ]
     },
     "execution_count": 80,
     "metadata": {},
     "output_type": "execute_result"
    }
   ],
   "source": [
    "pd.DataFrame(rs.cv_results_)"
   ]
  },
  {
   "cell_type": "code",
   "execution_count": 81,
   "id": "5892d3d9",
   "metadata": {},
   "outputs": [
    {
     "data": {
      "text/plain": [
       "{'kernel': 'linear', 'C': 1}"
      ]
     },
     "execution_count": 81,
     "metadata": {},
     "output_type": "execute_result"
    }
   ],
   "source": [
    "rs.best_params_"
   ]
  },
  {
   "cell_type": "code",
   "execution_count": 83,
   "id": "0a7cbce2",
   "metadata": {},
   "outputs": [
    {
     "name": "stdout",
     "output_type": "stream",
     "text": [
      "0.7402597402597403\n"
     ]
    },
    {
     "data": {
      "text/plain": [
       "0.7817589576547231"
      ]
     },
     "execution_count": 83,
     "metadata": {},
     "output_type": "execute_result"
    }
   ],
   "source": [
    "svc = SVC(**rs.best_params_)\n",
    "svc.fit(xtrain,ytrain)\n",
    "print(svc.score(xtest,ytest))\n",
    "svc.score(xtrain,ytrain)"
   ]
  },
  {
   "cell_type": "code",
   "execution_count": null,
   "id": "efecc97e",
   "metadata": {},
   "outputs": [],
   "source": []
  },
  {
   "cell_type": "code",
   "execution_count": null,
   "id": "7491637e",
   "metadata": {},
   "outputs": [],
   "source": []
  },
  {
   "cell_type": "code",
   "execution_count": null,
   "id": "52331cfb",
   "metadata": {},
   "outputs": [],
   "source": []
  },
  {
   "cell_type": "code",
   "execution_count": null,
   "id": "d616cc32",
   "metadata": {},
   "outputs": [],
   "source": []
  }
 ],
 "metadata": {
  "kernelspec": {
   "display_name": "Python 3 (ipykernel)",
   "language": "python",
   "name": "python3"
  },
  "language_info": {
   "codemirror_mode": {
    "name": "ipython",
    "version": 3
   },
   "file_extension": ".py",
   "mimetype": "text/x-python",
   "name": "python",
   "nbconvert_exporter": "python",
   "pygments_lexer": "ipython3",
   "version": "3.9.12"
  }
 },
 "nbformat": 4,
 "nbformat_minor": 5
}
