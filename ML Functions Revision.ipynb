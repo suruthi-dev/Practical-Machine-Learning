{
 "cells": [
  {
   "cell_type": "code",
   "execution_count": null,
   "id": "0cbc6f67",
   "metadata": {},
   "outputs": [],
   "source": [
    "# packages\n",
    "\n",
    "from sklearn.model_selection import train_test_split\n",
    "from sklearn.model_selection import StratifiedShuffleSplit\n",
    "from sklearn.pipeline import Pipeline\n",
    "from tabulate import tabulate\n",
    "\n",
    "\n",
    "from sklearn.preprocessing import StandardScaler\n",
    "from sklearn.preprocessing import MinMaxScaler\n",
    "\n",
    "from sklearn.neighbors import KNeighborsClassifier\n",
    "from sklearn.neighbors import KNeighborsRegressor\n",
    "from sklearn.linear_model import LinearRegression\n",
    "from sklearn.linear_model import SGDRegressor\n",
    "from sklearn.linear_model import Ridge\n",
    "from sklearn.linear_model import Lasso\n",
    "\n",
    "from sklearn.linear_model import LogisticRegression\n",
    "\n",
    "\n",
    "\n",
    "from sklearn.metrics import roc_curve\n",
    "from sklearn.metrics import classification_report\n",
    "from sklearn.metrics import confusion_matrix\n",
    "\n",
    "\n",
    "from sklearn.metrics import mean_squared_error\n",
    "from sklearn.metrics import accuracy_score\n",
    "from sklearn.metrics import precision_score\n",
    "from sklearn.metrics import recall_score\n",
    "from sklearn.metrics import f1_score\n",
    "from sklearn.metrics import roc_auc_score\n",
    "\n",
    "\n",
    "\n",
    "\n",
    "from sklearn.metrics import mean_squared_error\n",
    "\n"
   ]
  },
  {
   "cell_type": "code",
   "execution_count": null,
   "id": "7bbf9a80",
   "metadata": {},
   "outputs": [],
   "source": [
    "from sklearn.cluster import KMeans\n",
    "from sklearn.cluster import AgglomerativeClustering\n",
    "from sklearn.cluster import DBSCAN\n",
    "import scipy.cluster.hierarchy as sch"
   ]
  },
  {
   "cell_type": "code",
   "execution_count": null,
   "id": "d5577b32",
   "metadata": {},
   "outputs": [],
   "source": [
    "dendrogram = sch.dendrogram(sch.linkage(df,method='ward'))"
   ]
  },
  {
   "cell_type": "code",
   "execution_count": null,
   "id": "bc25fb14",
   "metadata": {},
   "outputs": [],
   "source": [
    "#  Elbow Method\n",
    "\n",
    "rng = range(1,10)\n",
    "sse = []\n",
    "for k in rng:\n",
    "    km = KMeans(n_clusters=k)\n",
    "    km.fit(df[['Age','Income($)']])\n",
    "    sse.append(km.inertia_)"
   ]
  },
  {
   "cell_type": "code",
   "execution_count": null,
   "id": "cd65dfab",
   "metadata": {},
   "outputs": [],
   "source": [
    "# Agglomerative \n",
    "cluster = AgglomerativeClustering(n_clusters=3,affinity = 'euclidean',linkage =  'ward')\n",
    "ypredi = cluster.fit_predict(df)"
   ]
  },
  {
   "cell_type": "code",
   "execution_count": null,
   "id": "6e13948d",
   "metadata": {},
   "outputs": [],
   "source": [
    "# DBSCAN\n",
    "\n",
    "from sklearn.cluster import DBSCAN\n",
    "\n",
    "# Create DBSCAN object\n",
    "dbscan = DBSCAN(eps=0.5, min_samples=5)\n",
    "\n",
    "# Fit and predict clusters\n",
    "clusters = dbscan.fit_predict(df[['Age','Income($)']])\n",
    "\n"
   ]
  },
  {
   "cell_type": "code",
   "execution_count": null,
   "id": "09962397",
   "metadata": {},
   "outputs": [],
   "source": []
  },
  {
   "cell_type": "code",
   "execution_count": null,
   "id": "330ffdec",
   "metadata": {},
   "outputs": [],
   "source": [
    "from sklearn.model_selection import StratifiedShuffleSplit\n",
    "sss = StratifiedShuffleSplit(n_splits=4,test_size = 0.30,random_state = 42)\n",
    "\n",
    "for train_index,test_index in sss.split(features,labels):\n",
    "    x_train,x_test = features.iloc[train_index],features.iloc[test_index]\n",
    "    y_train,y_test = labels.iloc[train_index],labels.iloc[test_index]"
   ]
  },
  {
   "cell_type": "code",
   "execution_count": null,
   "id": "936294e1",
   "metadata": {},
   "outputs": [],
   "source": []
  },
  {
   "cell_type": "code",
   "execution_count": 2,
   "id": "3950e400",
   "metadata": {},
   "outputs": [],
   "source": [
    "from sklearn.feature_selection import RFE,RFECV"
   ]
  },
  {
   "cell_type": "code",
   "execution_count": null,
   "id": "7fb14875",
   "metadata": {},
   "outputs": [],
   "source": []
  },
  {
   "cell_type": "code",
   "execution_count": null,
   "id": "92bb6a4d",
   "metadata": {},
   "outputs": [],
   "source": []
  },
  {
   "cell_type": "code",
   "execution_count": null,
   "id": "da7839c5",
   "metadata": {},
   "outputs": [],
   "source": []
  },
  {
   "cell_type": "code",
   "execution_count": null,
   "id": "385f90cd",
   "metadata": {},
   "outputs": [],
   "source": []
  },
  {
   "cell_type": "code",
   "execution_count": null,
   "id": "fd4622c6",
   "metadata": {},
   "outputs": [],
   "source": []
  },
  {
   "cell_type": "code",
   "execution_count": null,
   "id": "871031c2",
   "metadata": {},
   "outputs": [],
   "source": []
  },
  {
   "cell_type": "code",
   "execution_count": null,
   "id": "0b175e56",
   "metadata": {},
   "outputs": [],
   "source": [
    "# Plotting \n",
    "\n",
    "df0 = df[df.cluster == 0]\n",
    "df1 = df[df.cluster == 1]\n",
    "df2 = df[df.cluster == 2]\n",
    "\n",
    "\n",
    "plt.scatter(df0.Age,df0['Income($)'],color='red')\n",
    "plt.scatter(df1.Age,df1['Income($)'],color='green')\n",
    "plt.scatter(df2.Age,df2['Income($)'],color='black')\n",
    "\n",
    "plt.scatter(km.cluster_centers_[:,0],km.cluster_centers_[:,1],color='purple',marker = '*')"
   ]
  },
  {
   "cell_type": "code",
   "execution_count": null,
   "id": "2066a8d9",
   "metadata": {},
   "outputs": [],
   "source": []
  },
  {
   "cell_type": "code",
   "execution_count": null,
   "id": "43da9bfd",
   "metadata": {},
   "outputs": [],
   "source": []
  },
  {
   "cell_type": "code",
   "execution_count": null,
   "id": "b1b98521",
   "metadata": {},
   "outputs": [],
   "source": [
    "# plotting \n",
    "\n",
    "# scatter plot\n",
    "\n",
    "plt.xlabel(\"age\")\n",
    "plt.ylabel(\"weight\")\n",
    "plt.scatter(df.age, df.weight)\n",
    "plt.plot(y_test,y_test,'r--')\n",
    "\n",
    "\n",
    "plot = sns.scatterplot(x=df.age,y=df.weight,hue=df.likepizza)\n",
    "\n",
    "\n",
    "# relplot\n",
    "sns.relplot(data = data,x=data.drivenKm,y=data.fuelAmount)\n",
    "\n",
    "\n",
    "#RMSE\n",
    "\n",
    "mean_squared_error(y_test,y_pred,squared=False)"
   ]
  },
  {
   "cell_type": "code",
   "execution_count": null,
   "id": "8e77922d",
   "metadata": {},
   "outputs": [],
   "source": [
    "# knn classiifier\n",
    "\n",
    "knn = KNeighborsClassifier(n_neighbors=2)    \n",
    "knn.fit(x_df,y_df)\n",
    "print(knn.predict( [[25,50]] ))\n",
    "print(knn.score(x_df,y_df))\n",
    "\n",
    "y_pred = knn.predict(x_df)    #  Prediction on entire dataset\n",
    "y_pred\n",
    "\n",
    "def accuracy(actual,pred):\n",
    "    return sum(actual == pred)/float(actual.shape[0])\n",
    "\n",
    "# train set\n",
    "y_np = y_df.to_numpy()            # test - .numpy()  # pred .reshape(#rows,1)\n",
    "y_pred = y_pred.reshape(6,1)\n",
    "\n",
    "accuracy(y_np, y_pred)\n",
    "\n",
    "\n",
    "# test set\n",
    "y_test_np = y_test.to_numpy()\n",
    "y_pred_test = y_pred_test.reshape(4,1)\n",
    "\n",
    "# finding the best value for k\n",
    "\n",
    "scores=[]\n",
    "for i in range(1,4):\n",
    "    knn = KNeighborsClassifier(n_neighbors=i)   \n",
    "    knn.fit(x_df,y_df)\n",
    "    y_pred_test = knn.predict(x_test)\n",
    "    y_test_np = y_test.to_numpy()  \n",
    "    y_pred_test = y_pred_test.reshape(4,1)\n",
    "    acc = accuracy(y_test_np, y_pred_test)\n",
    "    scores.append((i,float(acc)))\n",
    "    "
   ]
  },
  {
   "cell_type": "code",
   "execution_count": null,
   "id": "235afa06",
   "metadata": {},
   "outputs": [],
   "source": [
    "# knn regression\n",
    "\n",
    "# creating Instance for the model\n",
    "\n",
    "knn = KNeighborsRegressor(n_neighbors=5)    \n",
    "\n",
    "knn.fit(x_train,y_train)\n"
   ]
  },
  {
   "cell_type": "code",
   "execution_count": null,
   "id": "0f4d7741",
   "metadata": {},
   "outputs": [],
   "source": [
    "# linear Regression\n",
    "\n",
    "lin_reg.coef_\n",
    "lin_reg.intercept_"
   ]
  },
  {
   "cell_type": "code",
   "execution_count": null,
   "id": "66936c44",
   "metadata": {},
   "outputs": [],
   "source": [
    "# SGDRegressor\n",
    "\n",
    "max_iter = np.ceil(10**6/x_train.shape[0])\n",
    "SGDRegressor(max_iter = max_iter,tol=1e-3)\n",
    "\n",
    "x_train = x_train.to_numpy()\n",
    "y_train = y_train.to_numpy()\n",
    "\n",
    "sgd.fit(x_train,y_train)\n",
    "sgd_y_pred = sgd.predict(x_test)\n",
    "\n",
    "\n",
    "\n",
    "sgd = SGDRegressor()\n",
    "\n",
    "sgd.fit(scaled_x_train_norm,y_train_cat)\n",
    "\n",
    "y_pred_sgd = sgd.predict(scaled_x_test_norm)\n",
    "\n",
    "mse_sgd = mean_squared_error(y_pred_sgd,y_test_cat)\n",
    "mse_sgd"
   ]
  },
  {
   "cell_type": "code",
   "execution_count": null,
   "id": "e708d5d8",
   "metadata": {},
   "outputs": [],
   "source": [
    "# L2 Regularization\n",
    "\n",
    "\n",
    "\n",
    "ridge = Ridge()\n",
    "\n",
    "# using scaled_x_train_norm and scaled_x_test_norm\n",
    "\n",
    "ridge.fit(scaled_x_train_norm,y_train)\n",
    "\n",
    "y_pred_ridge = ridge.predict(scaled_x_test_norm)\n",
    "\n",
    "mse_ridge = mean_squared_error(y_pred_ridge,y_test_cat)\n",
    "mse_ridge\n",
    "\n",
    "# L1 Regularization\n",
    "\n",
    "lasso=Lasso()\n",
    "\n",
    "lasso.fit(scaled_x_train_norm,y_train)\n",
    "\n",
    "y_pred_lasso = lasso.predict(scaled_x_test_norm)\n",
    "\n",
    "mse_lasso = mean_squared_error(y_pred_lasso,y_test_cat)\n",
    "mse_lasso"
   ]
  },
  {
   "cell_type": "code",
   "execution_count": null,
   "id": "f635f82e",
   "metadata": {},
   "outputs": [],
   "source": []
  },
  {
   "cell_type": "code",
   "execution_count": null,
   "id": "f4fbda5b",
   "metadata": {},
   "outputs": [],
   "source": [
    "# logistic regression\n",
    "\n",
    "log_reg = LogisticRegression()\n",
    "log_reg.fit(x_train, y_train)\n",
    "y_pred = log_reg.predict(x_test)"
   ]
  },
  {
   "cell_type": "code",
   "execution_count": null,
   "id": "8d546467",
   "metadata": {},
   "outputs": [],
   "source": []
  },
  {
   "cell_type": "code",
   "execution_count": null,
   "id": "22baba84",
   "metadata": {},
   "outputs": [],
   "source": [
    "# standardization\n",
    "\n",
    "# in last 2 labs :\n",
    "# scale x_train and x_test only \n",
    "# as we donot want to change the y(label) values we keep the same \n",
    "\n",
    "scaler = StandardScaler()\n",
    "\n",
    "norm_x_train = scaler.fit_transform(x_train)\n",
    "norm_y_train = scaler.fit_transform(y_train)\n",
    "\n",
    "norm_x_test = scaler.transform(x_test)\n",
    "norm_y_test = scaler.transform(y_test)\n",
    "\n",
    "\n",
    "\n",
    "\n",
    "\n",
    "norm_lreg = LinearRegression()\n",
    "\n",
    "norm_lreg.fit(norm_x_train,norm_y_train)\n",
    "\n",
    "norm_yPred = norm_lreg.predict(norm_x_test)\n",
    "\n",
    "# MSE\n",
    "mean_squared_error(norm_y_test,norm_yPred)\n",
    "\n",
    "# SCATTER PLOT\n",
    "\n",
    "plt.plot(norm_y_test,norm_yPred,\"go\")"
   ]
  },
  {
   "cell_type": "code",
   "execution_count": null,
   "id": "4a8f170d",
   "metadata": {},
   "outputs": [],
   "source": [
    "#  Normalization\n",
    "\n",
    "# in last 2 labs :\n",
    "# scale x_train and x_test only \n",
    "# as we donot want to change the y(label) values we keep the same \n",
    "\n",
    "minmax = MinMaxScaler()\n",
    "\n",
    "mm_norm_x_train = minmax.fit_transform(x_train)\n",
    "mm_norm_y_train = minmax.fit_transform(y_train)\n",
    "mm_norm_x_test = minmax.transform(x_test)\n",
    "mm_norm_y_test = minmax.transform(y_test)\n",
    "\n",
    "mm_norm_lreg = LinearRegression()\n",
    "\n",
    "mm_norm_lreg.fit(mm_norm_x_train,mm_norm_y_train)\n",
    "\n",
    "mm_norm_y_pred = mm_norm_lreg.predict(mm_norm_x_test)\n",
    "\n",
    "mm_norm_y_pred\n",
    "\n",
    "mm_norm_y_test\n",
    "\n",
    "minmax_norm_mse = mean_squared_error(mm_norm_y_test,\n",
    "                                     mm_norm_y_pred)\n",
    "\n",
    "minmax_norm_mse\n",
    "\n",
    "\n",
    "#### prepare the model with input scaling\n",
    "pipeline = Pipeline(steps=[('normalize', MinMaxScaler()), ('model', LinearRegression())])\n",
    "\n",
    "#### fit pipeline\n",
    "pipeline.fit(train_x, train_y)\n",
    "\n",
    "#### make predictions\n",
    "yhat = pipeline.predict(test_x)\n",
    "\n",
    "y_test = y_test.to_numpy()\n",
    "\n",
    "plt.xlabel(\"y_test\")\n",
    "plt.xlabel(\"y_pred\")\n",
    "plt.plot(y_test,yPred,\"ro\")\n",
    "\n",
    "\n",
    "plt.plot(norm_y_test,norm_yPred,\"go\")"
   ]
  },
  {
   "cell_type": "code",
   "execution_count": null,
   "id": "aec70d91",
   "metadata": {},
   "outputs": [],
   "source": [
    "data = [[\"MODELS\",\"MSE VALUE\"],\n",
    "       [\"LINEAR REGRESSION\",round(mse)],\n",
    "       [\"STANDARD SCALER LR \",round(norm_mse)],\n",
    "       [\" MINMAX  LR\",round(minmax_norm_mse) ],\n",
    "       [\"KNN\",round(knn_mse)],\n",
    "       [\"SGD\",round(sgd_mse)]]"
   ]
  },
  {
   "cell_type": "code",
   "execution_count": null,
   "id": "1b2b5dee",
   "metadata": {},
   "outputs": [],
   "source": []
  },
  {
   "cell_type": "code",
   "execution_count": null,
   "id": "29d6391b",
   "metadata": {},
   "outputs": [],
   "source": [
    "# lab 4\n",
    "\n",
    "# pre processing\n",
    "exc = data[['Bldg Type','Central Air']]\n",
    "data = data.select_dtypes(exclude = ['object'])\n",
    "\n",
    "ames_cat=pd.merge(ames_copy, exc, left_index=True, right_index=True)\n",
    "\n",
    "\n",
    "# one hot encoding\n",
    "\n",
    "ames_oh = pd.get_dummies(ames_cat)\n",
    "\n",
    "\n",
    "# train test split\n"
   ]
  },
  {
   "cell_type": "code",
   "execution_count": null,
   "id": "bee46d44",
   "metadata": {},
   "outputs": [],
   "source": []
  },
  {
   "cell_type": "code",
   "execution_count": null,
   "id": "0c80ab21",
   "metadata": {},
   "outputs": [],
   "source": [
    "# lab 5\n",
    "\n",
    "# confusion matrix:\n",
    "cm = confusion_matrix(y_test,y_pred)\n",
    "sns.heatmap(cm,annot=True)\n",
    "\n",
    "# classification report\n",
    "print(classification_report(y_test,y_pred))\n",
    "\n",
    "\n",
    "# metrics as a function\n",
    "def calculate_score(test,pred):\n",
    "    accuracy = accuracy_score(test, pred)\n",
    "    precision =precision_score(test,pred)\n",
    "    recall  = recall_score(test, pred)\n",
    "    roc_auc = roc_auc_score(test, pred)\n",
    "\n",
    "    return accuracy,precision,recall,roc_auc\n",
    "\n",
    "\n",
    "\n",
    "# stratified shuffle split\n",
    "\n",
    "sss = StratifiedShuffleSplit(n_splits=4,test_size = 0.25,random_state = 42)\n",
    "\n",
    "for train_index,test_index in sss.split(features,label):\n",
    "    x_train,x_test = features.iloc[train_index],features.iloc[train_index]\n",
    "    y_train,y_test = label.iloc[test_index],label.iloc[test_index]\n",
    "\n",
    "\n",
    "\n"
   ]
  },
  {
   "cell_type": "code",
   "execution_count": null,
   "id": "b5e26307",
   "metadata": {},
   "outputs": [],
   "source": []
  },
  {
   "cell_type": "code",
   "execution_count": null,
   "id": "b651ccb3",
   "metadata": {},
   "outputs": [],
   "source": [
    "\n",
    "\n",
    "pred_prob_minmax = log_reg_minmax.predict_proba(scaled_x_test_minmax)\n",
    "pred_prob_norm = log_reg_norm.predict_proba(scaled_x_test_norm)\n",
    "pred_prob_llog = log_reg.predict_proba(x_test)\n",
    "\n",
    "\n",
    "\n",
    "fpr, tpr, thresholds = roc_curve(y_test, pred_prob_minmax[:,1], pos_label=1)\n",
    "fpr1, tpr1, thresholds1 = roc_curve(y_test,pred_prob_norm[:,1], pos_label=1)\n",
    "fpr2, tpr2, thresholds2 = roc_curve(y_test,pred_prob_llog[:,1], pos_label=1)\n",
    "\n",
    "\n",
    "\n",
    "auc0 = auc(fpr,tpr)\n",
    "auc1 = auc(fpr1,tpr1)\n",
    "auc2 = auc(fpr2,tpr2)\n",
    "\n",
    "\n",
    "plt.plot(fpr,tpr,linestyle='--',color='orange',label='MinMaxScaler values = (%.3f)'%auc0)\n",
    "plt.plot(fpr1,tpr1,linestyle='--',color='red',label='Std Scaler values = (%.3f)'%auc1)\n",
    "plt.plot(fpr2,tpr2,linestyle='--',color='green',label='Log reg values = (%.3f)'%auc2)\n",
    "plt.plot(fpr4, tpr4,linestyle='--',color='blue',label='knnvalues = (%.3f)'%auc4)\n",
    "plt.legend()"
   ]
  },
  {
   "cell_type": "code",
   "execution_count": 2,
   "id": "0397d0c6",
   "metadata": {},
   "outputs": [
    {
     "ename": "ImportError",
     "evalue": "cannot import name 'DecisionTreeClassiifier' from 'sklearn.tree' (C:\\Users\\SURUTHI S\\anaconda3\\lib\\site-packages\\sklearn\\tree\\__init__.py)",
     "output_type": "error",
     "traceback": [
      "\u001b[1;31m---------------------------------------------------------------------------\u001b[0m",
      "\u001b[1;31mImportError\u001b[0m                               Traceback (most recent call last)",
      "Input \u001b[1;32mIn [2]\u001b[0m, in \u001b[0;36m<cell line: 1>\u001b[1;34m()\u001b[0m\n\u001b[1;32m----> 1\u001b[0m \u001b[38;5;28;01mfrom\u001b[39;00m \u001b[38;5;21;01msklearn\u001b[39;00m\u001b[38;5;21;01m.\u001b[39;00m\u001b[38;5;21;01mtree\u001b[39;00m \u001b[38;5;28;01mimport\u001b[39;00m DecisionTreeClassiifier\n\u001b[0;32m      3\u001b[0m \u001b[38;5;28;01mfrom\u001b[39;00m \u001b[38;5;21;01msklearn\u001b[39;00m\u001b[38;5;21;01m.\u001b[39;00m\u001b[38;5;21;01mmodel_selection\u001b[39;00m \u001b[38;5;28;01mimport\u001b[39;00m cross_val_score\n",
      "\u001b[1;31mImportError\u001b[0m: cannot import name 'DecisionTreeClassiifier' from 'sklearn.tree' (C:\\Users\\SURUTHI S\\anaconda3\\lib\\site-packages\\sklearn\\tree\\__init__.py)"
     ]
    }
   ],
   "source": [
    "from sklearn.tree import DecisionTreeClassiifier\n",
    "\n",
    "from sklearn.model_selection import cross_val_score"
   ]
  },
  {
   "cell_type": "code",
   "execution_count": null,
   "id": "254ded67",
   "metadata": {},
   "outputs": [],
   "source": [
    "scores = cross_val_score(DecisionTreeClassifier(),X,y,cv=5)"
   ]
  },
  {
   "cell_type": "code",
   "execution_count": null,
   "id": "3a9bb324",
   "metadata": {},
   "outputs": [],
   "source": []
  },
  {
   "cell_type": "code",
   "execution_count": null,
   "id": "972deaa1",
   "metadata": {},
   "outputs": [],
   "source": [
    "pp1 = clf1.predict_proba(xtest)\n",
    "pp2 = clf2.predict_proba(xtest)\n",
    "\n",
    "fpr1,tpr1,threshold1 = roc_curve(ytest,pp1[:,1],pos_label=1)\n",
    "fpr2,tpr2,threshold2 = roc_curve(ytest,pp2[:,1],pos_label=1)\n",
    "\n",
    "auc1 = auc(fpr1,tpr1)\n",
    "auc2 = auc(fpr2,tpr2)\n",
    "\n",
    "\n",
    "plt.plot(fpr,tpr,linestyle = '--',label = '(%0.3f)'%(auc1))\n",
    "plt.plot(fpr,tpr,linestyle = '++',label = '(%0.3f)'%(auc2))"
   ]
  },
  {
   "cell_type": "code",
   "execution_count": null,
   "id": "0f0abdb7",
   "metadata": {},
   "outputs": [],
   "source": []
  },
  {
   "cell_type": "code",
   "execution_count": null,
   "id": "4f1f8fe2",
   "metadata": {},
   "outputs": [],
   "source": []
  },
  {
   "cell_type": "code",
   "execution_count": null,
   "id": "44752155",
   "metadata": {},
   "outputs": [],
   "source": []
  },
  {
   "cell_type": "code",
   "execution_count": null,
   "id": "dfddeaa9",
   "metadata": {},
   "outputs": [],
   "source": []
  },
  {
   "cell_type": "code",
   "execution_count": null,
   "id": "af20c0e2",
   "metadata": {},
   "outputs": [],
   "source": []
  }
 ],
 "metadata": {
  "kernelspec": {
   "display_name": "Python 3 (ipykernel)",
   "language": "python",
   "name": "python3"
  },
  "language_info": {
   "codemirror_mode": {
    "name": "ipython",
    "version": 3
   },
   "file_extension": ".py",
   "mimetype": "text/x-python",
   "name": "python",
   "nbconvert_exporter": "python",
   "pygments_lexer": "ipython3",
   "version": "3.9.12"
  }
 },
 "nbformat": 4,
 "nbformat_minor": 5
}
